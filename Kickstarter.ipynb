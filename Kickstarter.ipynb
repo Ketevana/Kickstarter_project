{
 "cells": [
  {
   "cell_type": "code",
   "execution_count": 52,
   "metadata": {
    "ExecuteTime": {
     "end_time": "2021-05-29T09:58:24.920042Z",
     "start_time": "2021-05-29T09:58:24.915014Z"
    }
   },
   "outputs": [],
   "source": [
    "import numpy as np\n",
    "import pandas as pd\n",
    "\n",
    "from matplotlib import pyplot as plt\n",
    "import seaborn as sns\n",
    "import matplotlib.ticker as mtick\n",
    "\n",
    "plt.rcParams['figure.figsize'] = [6, 6]\n",
    "%matplotlib inline\n",
    "\n",
    "from matplotlib.ticker import PercentFormatter\n",
    "\n"
   ]
  },
  {
   "cell_type": "code",
   "execution_count": 53,
   "metadata": {
    "ExecuteTime": {
     "end_time": "2021-05-29T09:58:25.244251Z",
     "start_time": "2021-05-29T09:58:24.922941Z"
    }
   },
   "outputs": [
    {
     "name": "stdout",
     "output_type": "stream",
     "text": [
      "   project id                                               name  \\\n",
      "0       39409                              WHILE THE TREES SLEEP   \n",
      "1      126581               Educational Online Trading Card Game   \n",
      "2      138119                                              STRUM   \n",
      "3      237090  GETTING OVER - One son's search to finally kno...   \n",
      "4      246101  The Launch of FlyeGrlRoyalty &quot;The New Nam...   \n",
      "\n",
      "                                                 url      category  \\\n",
      "0  http://www.kickstarter.com/projects/emiliesaba...  Film & Video   \n",
      "1  http://www.kickstarter.com/projects/972789543/...         Games   \n",
      "2  http://www.kickstarter.com/projects/185476022/...  Film & Video   \n",
      "3  http://www.kickstarter.com/projects/charnick/g...  Film & Video   \n",
      "4  http://www.kickstarter.com/projects/flyegrlroy...       Fashion   \n",
      "\n",
      "          subcategory         location      status     goal  pledged  \\\n",
      "0          Short Film     Columbia, MO  successful  10500.0  11545.0   \n",
      "1  Board & Card Games    Maplewood, NJ      failed   4000.0     20.0   \n",
      "2           Animation  Los Angeles, CA        live  20000.0     56.0   \n",
      "3         Documentary  Los Angeles, CA  successful   6000.0   6535.0   \n",
      "4             Fashion         Novi, MI      failed   3500.0      0.0   \n",
      "\n",
      "   funded percentage  backers                      funded date  levels  \\\n",
      "0           1.099524       66  Fri, 19 Aug 2011 19:28:17 -0000       7   \n",
      "1           0.005000        2  Mon, 02 Aug 2010 03:59:00 -0000       5   \n",
      "2           0.002800        3  Fri, 08 Jun 2012 00:00:31 -0000      10   \n",
      "3           1.089167      100  Sun, 08 Apr 2012 02:14:00 -0000      13   \n",
      "4           0.000000        0  Wed, 01 Jun 2011 15:25:39 -0000       6   \n",
      "\n",
      "                                       reward levels  updates  comments  \\\n",
      "0               $25,$50,$100,$250,$500,$1,000,$2,500       10         2   \n",
      "1                                  $1,$5,$10,$25,$50        6         0   \n",
      "2  $1,$10,$25,$40,$50,$100,$250,$1,000,$1,337,$9,001        1         0   \n",
      "3  $1,$10,$25,$30,$50,$75,$85,$100,$110,$250,$500...        4         0   \n",
      "4                         $10,$25,$50,$100,$150,$250        2         0   \n",
      "\n",
      "   duration  \n",
      "0     30.00  \n",
      "1     47.18  \n",
      "2     28.00  \n",
      "3     32.22  \n",
      "4     30.00  \n"
     ]
    }
   ],
   "source": [
    "df = pd.read_csv(\"DSI_kickstarterscrape_dataset.csv\", encoding = \"ISO-8859-1\") #delimiter=','\n",
    "\n",
    "print(df.head())"
   ]
  },
  {
   "cell_type": "code",
   "execution_count": 54,
   "metadata": {
    "ExecuteTime": {
     "end_time": "2021-05-29T09:58:25.296948Z",
     "start_time": "2021-05-29T09:58:25.247593Z"
    }
   },
   "outputs": [
    {
     "data": {
      "text/html": [
       "<div>\n",
       "<style scoped>\n",
       "    .dataframe tbody tr th:only-of-type {\n",
       "        vertical-align: middle;\n",
       "    }\n",
       "\n",
       "    .dataframe tbody tr th {\n",
       "        vertical-align: top;\n",
       "    }\n",
       "\n",
       "    .dataframe thead th {\n",
       "        text-align: right;\n",
       "    }\n",
       "</style>\n",
       "<table border=\"1\" class=\"dataframe\">\n",
       "  <thead>\n",
       "    <tr style=\"text-align: right;\">\n",
       "      <th></th>\n",
       "      <th>project id</th>\n",
       "      <th>goal</th>\n",
       "      <th>pledged</th>\n",
       "      <th>funded percentage</th>\n",
       "      <th>backers</th>\n",
       "      <th>levels</th>\n",
       "      <th>updates</th>\n",
       "      <th>comments</th>\n",
       "      <th>duration</th>\n",
       "    </tr>\n",
       "  </thead>\n",
       "  <tbody>\n",
       "    <tr>\n",
       "      <th>count</th>\n",
       "      <td>4.595700e+04</td>\n",
       "      <td>4.595700e+04</td>\n",
       "      <td>4.594500e+04</td>\n",
       "      <td>45957.000000</td>\n",
       "      <td>45957.000000</td>\n",
       "      <td>45957.000000</td>\n",
       "      <td>45957.00000</td>\n",
       "      <td>45957.000000</td>\n",
       "      <td>45957.000000</td>\n",
       "    </tr>\n",
       "    <tr>\n",
       "      <th>mean</th>\n",
       "      <td>1.080800e+09</td>\n",
       "      <td>1.194271e+04</td>\n",
       "      <td>4.980750e+03</td>\n",
       "      <td>1.850129</td>\n",
       "      <td>69.973192</td>\n",
       "      <td>8.004939</td>\n",
       "      <td>4.08508</td>\n",
       "      <td>8.379529</td>\n",
       "      <td>39.995547</td>\n",
       "    </tr>\n",
       "    <tr>\n",
       "      <th>std</th>\n",
       "      <td>6.218057e+08</td>\n",
       "      <td>1.887583e+05</td>\n",
       "      <td>5.674162e+04</td>\n",
       "      <td>88.492706</td>\n",
       "      <td>688.628479</td>\n",
       "      <td>4.233907</td>\n",
       "      <td>6.43922</td>\n",
       "      <td>174.015737</td>\n",
       "      <td>17.414458</td>\n",
       "    </tr>\n",
       "    <tr>\n",
       "      <th>min</th>\n",
       "      <td>3.940900e+04</td>\n",
       "      <td>1.000000e-02</td>\n",
       "      <td>0.000000e+00</td>\n",
       "      <td>0.000000</td>\n",
       "      <td>0.000000</td>\n",
       "      <td>0.000000</td>\n",
       "      <td>0.00000</td>\n",
       "      <td>0.000000</td>\n",
       "      <td>1.000000</td>\n",
       "    </tr>\n",
       "    <tr>\n",
       "      <th>25%</th>\n",
       "      <td>5.438962e+08</td>\n",
       "      <td>1.800000e+03</td>\n",
       "      <td>1.960000e+02</td>\n",
       "      <td>0.044000</td>\n",
       "      <td>5.000000</td>\n",
       "      <td>5.000000</td>\n",
       "      <td>0.00000</td>\n",
       "      <td>0.000000</td>\n",
       "      <td>30.000000</td>\n",
       "    </tr>\n",
       "    <tr>\n",
       "      <th>50%</th>\n",
       "      <td>1.078345e+09</td>\n",
       "      <td>4.000000e+03</td>\n",
       "      <td>1.310000e+03</td>\n",
       "      <td>1.000000</td>\n",
       "      <td>23.000000</td>\n",
       "      <td>7.000000</td>\n",
       "      <td>2.00000</td>\n",
       "      <td>0.000000</td>\n",
       "      <td>32.000000</td>\n",
       "    </tr>\n",
       "    <tr>\n",
       "      <th>75%</th>\n",
       "      <td>1.621596e+09</td>\n",
       "      <td>9.862000e+03</td>\n",
       "      <td>4.165000e+03</td>\n",
       "      <td>1.115640</td>\n",
       "      <td>59.000000</td>\n",
       "      <td>10.000000</td>\n",
       "      <td>6.00000</td>\n",
       "      <td>3.000000</td>\n",
       "      <td>48.390000</td>\n",
       "    </tr>\n",
       "    <tr>\n",
       "      <th>max</th>\n",
       "      <td>2.147460e+09</td>\n",
       "      <td>2.147484e+07</td>\n",
       "      <td>1.026684e+07</td>\n",
       "      <td>15066.000000</td>\n",
       "      <td>87142.000000</td>\n",
       "      <td>80.000000</td>\n",
       "      <td>149.00000</td>\n",
       "      <td>19311.000000</td>\n",
       "      <td>91.960000</td>\n",
       "    </tr>\n",
       "  </tbody>\n",
       "</table>\n",
       "</div>"
      ],
      "text/plain": [
       "         project id          goal       pledged  funded percentage  \\\n",
       "count  4.595700e+04  4.595700e+04  4.594500e+04       45957.000000   \n",
       "mean   1.080800e+09  1.194271e+04  4.980750e+03           1.850129   \n",
       "std    6.218057e+08  1.887583e+05  5.674162e+04          88.492706   \n",
       "min    3.940900e+04  1.000000e-02  0.000000e+00           0.000000   \n",
       "25%    5.438962e+08  1.800000e+03  1.960000e+02           0.044000   \n",
       "50%    1.078345e+09  4.000000e+03  1.310000e+03           1.000000   \n",
       "75%    1.621596e+09  9.862000e+03  4.165000e+03           1.115640   \n",
       "max    2.147460e+09  2.147484e+07  1.026684e+07       15066.000000   \n",
       "\n",
       "            backers        levels      updates      comments      duration  \n",
       "count  45957.000000  45957.000000  45957.00000  45957.000000  45957.000000  \n",
       "mean      69.973192      8.004939      4.08508      8.379529     39.995547  \n",
       "std      688.628479      4.233907      6.43922    174.015737     17.414458  \n",
       "min        0.000000      0.000000      0.00000      0.000000      1.000000  \n",
       "25%        5.000000      5.000000      0.00000      0.000000     30.000000  \n",
       "50%       23.000000      7.000000      2.00000      0.000000     32.000000  \n",
       "75%       59.000000     10.000000      6.00000      3.000000     48.390000  \n",
       "max    87142.000000     80.000000    149.00000  19311.000000     91.960000  "
      ]
     },
     "execution_count": 54,
     "metadata": {},
     "output_type": "execute_result"
    }
   ],
   "source": [
    "df.describe()\n"
   ]
  },
  {
   "cell_type": "code",
   "execution_count": 55,
   "metadata": {
    "ExecuteTime": {
     "end_time": "2021-05-29T09:58:25.306352Z",
     "start_time": "2021-05-29T09:58:25.300924Z"
    }
   },
   "outputs": [],
   "source": [
    "#df['Day'] = df['funded date'].str.split(r\", \", expand=True)\n",
    "#print(df['Day'].head())"
   ]
  },
  {
   "cell_type": "code",
   "execution_count": 56,
   "metadata": {
    "ExecuteTime": {
     "end_time": "2021-05-29T09:58:25.348371Z",
     "start_time": "2021-05-29T09:58:25.309929Z"
    }
   },
   "outputs": [
    {
     "name": "stdout",
     "output_type": "stream",
     "text": [
      "<class 'pandas.core.frame.DataFrame'>\n",
      "RangeIndex: 45957 entries, 0 to 45956\n",
      "Data columns (total 17 columns):\n",
      " #   Column             Non-Null Count  Dtype  \n",
      "---  ------             --------------  -----  \n",
      " 0   project id         45957 non-null  int64  \n",
      " 1   name               45957 non-null  object \n",
      " 2   url                45957 non-null  object \n",
      " 3   category           45957 non-null  object \n",
      " 4   subcategory        45957 non-null  object \n",
      " 5   location           44635 non-null  object \n",
      " 6   status             45957 non-null  object \n",
      " 7   goal               45957 non-null  float64\n",
      " 8   pledged            45945 non-null  float64\n",
      " 9   funded percentage  45957 non-null  float64\n",
      " 10  backers            45957 non-null  int64  \n",
      " 11  funded date        45957 non-null  object \n",
      " 12  levels             45957 non-null  int64  \n",
      " 13  reward levels      45898 non-null  object \n",
      " 14  updates            45957 non-null  int64  \n",
      " 15  comments           45957 non-null  int64  \n",
      " 16  duration           45957 non-null  float64\n",
      "dtypes: float64(4), int64(5), object(8)\n",
      "memory usage: 6.0+ MB\n"
     ]
    }
   ],
   "source": [
    "df.info()"
   ]
  },
  {
   "cell_type": "code",
   "execution_count": 57,
   "metadata": {
    "ExecuteTime": {
     "end_time": "2021-05-29T09:58:25.358644Z",
     "start_time": "2021-05-29T09:58:25.352814Z"
    }
   },
   "outputs": [
    {
     "data": {
      "text/plain": [
       "Index(['project id', 'name', 'url', 'category', 'subcategory', 'location',\n",
       "       'status', 'goal', 'pledged', 'funded percentage', 'backers',\n",
       "       'funded date', 'levels', 'reward levels', 'updates', 'comments',\n",
       "       'duration'],\n",
       "      dtype='object')"
      ]
     },
     "execution_count": 57,
     "metadata": {},
     "output_type": "execute_result"
    }
   ],
   "source": [
    "df.columns\n"
   ]
  },
  {
   "cell_type": "code",
   "execution_count": 58,
   "metadata": {
    "ExecuteTime": {
     "end_time": "2021-05-29T09:58:25.366830Z",
     "start_time": "2021-05-29T09:58:25.361669Z"
    }
   },
   "outputs": [
    {
     "data": {
      "text/plain": [
       "(45957, 17)"
      ]
     },
     "execution_count": 58,
     "metadata": {},
     "output_type": "execute_result"
    }
   ],
   "source": [
    "df.shape\n"
   ]
  },
  {
   "cell_type": "code",
   "execution_count": 59,
   "metadata": {
    "ExecuteTime": {
     "end_time": "2021-05-29T09:58:25.378554Z",
     "start_time": "2021-05-29T09:58:25.372587Z"
    }
   },
   "outputs": [
    {
     "data": {
      "text/plain": [
       "4980.749678963979"
      ]
     },
     "execution_count": 59,
     "metadata": {},
     "output_type": "execute_result"
    }
   ],
   "source": [
    "df.pledged.mean()\n"
   ]
  },
  {
   "cell_type": "code",
   "execution_count": 60,
   "metadata": {
    "ExecuteTime": {
     "end_time": "2021-05-29T09:58:25.390965Z",
     "start_time": "2021-05-29T09:58:25.384125Z"
    }
   },
   "outputs": [
    {
     "data": {
      "text/plain": [
       "11942.709521509252"
      ]
     },
     "execution_count": 60,
     "metadata": {},
     "output_type": "execute_result"
    }
   ],
   "source": [
    "df.goal.mean()"
   ]
  },
  {
   "cell_type": "code",
   "execution_count": 61,
   "metadata": {
    "ExecuteTime": {
     "end_time": "2021-05-29T09:58:25.404774Z",
     "start_time": "2021-05-29T09:58:25.394199Z"
    }
   },
   "outputs": [
    {
     "data": {
      "text/plain": [
       "4000.0"
      ]
     },
     "execution_count": 61,
     "metadata": {},
     "output_type": "execute_result"
    }
   ],
   "source": [
    "df.goal.median()"
   ]
  },
  {
   "cell_type": "code",
   "execution_count": 62,
   "metadata": {
    "ExecuteTime": {
     "end_time": "2021-05-29T09:58:25.422731Z",
     "start_time": "2021-05-29T09:58:25.410943Z"
    }
   },
   "outputs": [
    {
     "data": {
      "text/plain": [
       "1310.0"
      ]
     },
     "execution_count": 62,
     "metadata": {},
     "output_type": "execute_result"
    }
   ],
   "source": [
    "df.pledged.median()\n"
   ]
  },
  {
   "cell_type": "code",
   "execution_count": 63,
   "metadata": {
    "ExecuteTime": {
     "end_time": "2021-05-29T09:58:25.433998Z",
     "start_time": "2021-05-29T09:58:25.427899Z"
    }
   },
   "outputs": [
    {
     "data": {
      "text/plain": [
       "10266845.0"
      ]
     },
     "execution_count": 63,
     "metadata": {},
     "output_type": "execute_result"
    }
   ],
   "source": [
    "df.pledged.max()"
   ]
  },
  {
   "cell_type": "code",
   "execution_count": 64,
   "metadata": {
    "ExecuteTime": {
     "end_time": "2021-05-29T09:58:25.445198Z",
     "start_time": "2021-05-29T09:58:25.438015Z"
    }
   },
   "outputs": [
    {
     "data": {
      "text/plain": [
       "21474836.47"
      ]
     },
     "execution_count": 64,
     "metadata": {},
     "output_type": "execute_result"
    }
   ],
   "source": [
    "df.goal.max()"
   ]
  },
  {
   "cell_type": "code",
   "execution_count": 65,
   "metadata": {
    "ExecuteTime": {
     "end_time": "2021-05-29T09:58:25.855963Z",
     "start_time": "2021-05-29T09:58:25.447671Z"
    }
   },
   "outputs": [
    {
     "data": {
      "text/plain": [
       "<matplotlib.legend.Legend at 0x7f9f68f2c550>"
      ]
     },
     "execution_count": 65,
     "metadata": {},
     "output_type": "execute_result"
    },
    {
     "data": {
      "image/png": "[encoded data removed]",
      "text/plain": [
       "<Figure size 432x288 with 1 Axes>"
      ]
     },
     "metadata": {
      "needs_background": "light"
     },
     "output_type": "display_data"
    }
   ],
   "source": [
    "average = df.backers.mean()\n",
    "median = df.backers.median()\n",
    "outlier = df.backers.max()\n",
    "backers = df.backers.values\n",
    "\n",
    "plt.hist(backers,  range = (0, 1000), bins = 50, edgecolor='black')\n",
    "plt.title(\"Total Backers\")\n",
    "plt.ylabel(\"Count\")\n",
    "plt.xlabel(\"Backers\")\n",
    "plt.axvline(average, color='r', linestyle='solid', linewidth=2, label=\"Mean\")\n",
    "plt.axvline(median, color='y', linestyle='solid', linewidth=2, label=\"Median\")\n",
    "#plt.axvline(outlier, color='pink', linestyle='solid', linewidth=2, label='outlier')\n",
    "plt.legend()"
   ]
  },
  {
   "cell_type": "code",
   "execution_count": 66,
   "metadata": {
    "ExecuteTime": {
     "end_time": "2021-05-29T09:58:26.106843Z",
     "start_time": "2021-05-29T09:58:25.858217Z"
    }
   },
   "outputs": [
    {
     "data": {
      "text/plain": [
       "<matplotlib.legend.Legend at 0x7f9f86c21370>"
      ]
     },
     "execution_count": 66,
     "metadata": {},
     "output_type": "execute_result"
    },
    {
     "data": {
      "image/png": "[encoded data removed]",
      "text/plain": [
       "<Figure size 432x288 with 1 Axes>"
      ]
     },
     "metadata": {
      "needs_background": "light"
     },
     "output_type": "display_data"
    }
   ],
   "source": [
    "duration = df.duration.values\n",
    "average1 = df.duration.mean()\n",
    "median1 = df.duration.median()\n",
    "\n",
    "plt.hist(duration,  range = (0, 100), bins = 25, edgecolor='black')\n",
    "plt.title(\"Duration Distribution\")\n",
    "plt.ylabel(\"Count\")\n",
    "plt.xlabel(\"Duration\")\n",
    "plt.axvline(average1, color='r', linestyle='solid', linewidth=2, label=\"Mean\")\n",
    "plt.axvline(median1, color='y', linestyle='solid', linewidth=2, label=\"Median\")\n",
    "plt.legend()"
   ]
  },
  {
   "cell_type": "code",
   "execution_count": 67,
   "metadata": {
    "ExecuteTime": {
     "end_time": "2021-05-29T09:58:26.114606Z",
     "start_time": "2021-05-29T09:58:26.109490Z"
    }
   },
   "outputs": [
    {
     "data": {
      "text/plain": [
       "5954"
      ]
     },
     "execution_count": 67,
     "metadata": {},
     "output_type": "execute_result"
    }
   ],
   "source": [
    "df.duration.nunique()"
   ]
  },
  {
   "cell_type": "code",
   "execution_count": 68,
   "metadata": {
    "ExecuteTime": {
     "end_time": "2021-05-29T09:58:26.140741Z",
     "start_time": "2021-05-29T09:58:26.116903Z"
    }
   },
   "outputs": [
    {
     "data": {
      "text/html": [
       "<div>\n",
       "<style scoped>\n",
       "    .dataframe tbody tr th:only-of-type {\n",
       "        vertical-align: middle;\n",
       "    }\n",
       "\n",
       "    .dataframe tbody tr th {\n",
       "        vertical-align: top;\n",
       "    }\n",
       "\n",
       "    .dataframe thead th {\n",
       "        text-align: right;\n",
       "    }\n",
       "</style>\n",
       "<table border=\"1\" class=\"dataframe\">\n",
       "  <thead>\n",
       "    <tr style=\"text-align: right;\">\n",
       "      <th></th>\n",
       "      <th>project id</th>\n",
       "      <th>goal</th>\n",
       "      <th>pledged</th>\n",
       "      <th>funded percentage</th>\n",
       "      <th>backers</th>\n",
       "      <th>levels</th>\n",
       "      <th>updates</th>\n",
       "      <th>comments</th>\n",
       "      <th>duration</th>\n",
       "    </tr>\n",
       "  </thead>\n",
       "  <tbody>\n",
       "    <tr>\n",
       "      <th>project id</th>\n",
       "      <td>1.000000</td>\n",
       "      <td>-0.006862</td>\n",
       "      <td>-0.001762</td>\n",
       "      <td>-0.004456</td>\n",
       "      <td>0.003878</td>\n",
       "      <td>-0.000822</td>\n",
       "      <td>-0.003015</td>\n",
       "      <td>-0.002917</td>\n",
       "      <td>0.002657</td>\n",
       "    </tr>\n",
       "    <tr>\n",
       "      <th>goal</th>\n",
       "      <td>-0.006862</td>\n",
       "      <td>1.000000</td>\n",
       "      <td>0.020919</td>\n",
       "      <td>-0.001022</td>\n",
       "      <td>0.028017</td>\n",
       "      <td>0.016494</td>\n",
       "      <td>-0.003265</td>\n",
       "      <td>0.029201</td>\n",
       "      <td>0.024514</td>\n",
       "    </tr>\n",
       "    <tr>\n",
       "      <th>pledged</th>\n",
       "      <td>-0.001762</td>\n",
       "      <td>0.020919</td>\n",
       "      <td>1.000000</td>\n",
       "      <td>0.008401</td>\n",
       "      <td>0.829452</td>\n",
       "      <td>0.070600</td>\n",
       "      <td>0.098482</td>\n",
       "      <td>0.554628</td>\n",
       "      <td>0.001281</td>\n",
       "    </tr>\n",
       "    <tr>\n",
       "      <th>funded percentage</th>\n",
       "      <td>-0.004456</td>\n",
       "      <td>-0.001022</td>\n",
       "      <td>0.008401</td>\n",
       "      <td>1.000000</td>\n",
       "      <td>0.005466</td>\n",
       "      <td>0.000213</td>\n",
       "      <td>0.015239</td>\n",
       "      <td>0.004800</td>\n",
       "      <td>-0.003164</td>\n",
       "    </tr>\n",
       "    <tr>\n",
       "      <th>backers</th>\n",
       "      <td>0.003878</td>\n",
       "      <td>0.028017</td>\n",
       "      <td>0.829452</td>\n",
       "      <td>0.005466</td>\n",
       "      <td>1.000000</td>\n",
       "      <td>0.077863</td>\n",
       "      <td>0.112467</td>\n",
       "      <td>0.695778</td>\n",
       "      <td>-0.006810</td>\n",
       "    </tr>\n",
       "    <tr>\n",
       "      <th>levels</th>\n",
       "      <td>-0.000822</td>\n",
       "      <td>0.016494</td>\n",
       "      <td>0.070600</td>\n",
       "      <td>0.000213</td>\n",
       "      <td>0.077863</td>\n",
       "      <td>1.000000</td>\n",
       "      <td>0.248861</td>\n",
       "      <td>0.089719</td>\n",
       "      <td>0.029563</td>\n",
       "    </tr>\n",
       "    <tr>\n",
       "      <th>updates</th>\n",
       "      <td>-0.003015</td>\n",
       "      <td>-0.003265</td>\n",
       "      <td>0.098482</td>\n",
       "      <td>0.015239</td>\n",
       "      <td>0.112467</td>\n",
       "      <td>0.248861</td>\n",
       "      <td>1.000000</td>\n",
       "      <td>0.103498</td>\n",
       "      <td>0.059566</td>\n",
       "    </tr>\n",
       "    <tr>\n",
       "      <th>comments</th>\n",
       "      <td>-0.002917</td>\n",
       "      <td>0.029201</td>\n",
       "      <td>0.554628</td>\n",
       "      <td>0.004800</td>\n",
       "      <td>0.695778</td>\n",
       "      <td>0.089719</td>\n",
       "      <td>0.103498</td>\n",
       "      <td>1.000000</td>\n",
       "      <td>-0.006642</td>\n",
       "    </tr>\n",
       "    <tr>\n",
       "      <th>duration</th>\n",
       "      <td>0.002657</td>\n",
       "      <td>0.024514</td>\n",
       "      <td>0.001281</td>\n",
       "      <td>-0.003164</td>\n",
       "      <td>-0.006810</td>\n",
       "      <td>0.029563</td>\n",
       "      <td>0.059566</td>\n",
       "      <td>-0.006642</td>\n",
       "      <td>1.000000</td>\n",
       "    </tr>\n",
       "  </tbody>\n",
       "</table>\n",
       "</div>"
      ],
      "text/plain": [
       "                   project id      goal   pledged  funded percentage  \\\n",
       "project id           1.000000 -0.006862 -0.001762          -0.004456   \n",
       "goal                -0.006862  1.000000  0.020919          -0.001022   \n",
       "pledged             -0.001762  0.020919  1.000000           0.008401   \n",
       "funded percentage   -0.004456 -0.001022  0.008401           1.000000   \n",
       "backers              0.003878  0.028017  0.829452           0.005466   \n",
       "levels              -0.000822  0.016494  0.070600           0.000213   \n",
       "updates             -0.003015 -0.003265  0.098482           0.015239   \n",
       "comments            -0.002917  0.029201  0.554628           0.004800   \n",
       "duration             0.002657  0.024514  0.001281          -0.003164   \n",
       "\n",
       "                    backers    levels   updates  comments  duration  \n",
       "project id         0.003878 -0.000822 -0.003015 -0.002917  0.002657  \n",
       "goal               0.028017  0.016494 -0.003265  0.029201  0.024514  \n",
       "pledged            0.829452  0.070600  0.098482  0.554628  0.001281  \n",
       "funded percentage  0.005466  0.000213  0.015239  0.004800 -0.003164  \n",
       "backers            1.000000  0.077863  0.112467  0.695778 -0.006810  \n",
       "levels             0.077863  1.000000  0.248861  0.089719  0.029563  \n",
       "updates            0.112467  0.248861  1.000000  0.103498  0.059566  \n",
       "comments           0.695778  0.089719  0.103498  1.000000 -0.006642  \n",
       "duration          -0.006810  0.029563  0.059566 -0.006642  1.000000  "
      ]
     },
     "execution_count": 68,
     "metadata": {},
     "output_type": "execute_result"
    }
   ],
   "source": [
    "df.corr()\n"
   ]
  },
  {
   "cell_type": "code",
   "execution_count": 69,
   "metadata": {
    "ExecuteTime": {
     "end_time": "2021-05-29T09:58:26.153586Z",
     "start_time": "2021-05-29T09:58:26.142736Z"
    }
   },
   "outputs": [
    {
     "data": {
      "text/plain": [
       "category\n",
       "Film &amp; Video    13053\n",
       "Music               10913\n",
       "Publishing           4770\n",
       "Art                  3992\n",
       "Theater              2492\n",
       "Design               1768\n",
       "Games                1738\n",
       "Photography          1514\n",
       "Food                 1439\n",
       "Fashion              1136\n",
       "Comics               1072\n",
       "Technology            811\n",
       "Dance                 761\n",
       "Film & Video          498\n",
       "Name: status, dtype: int64"
      ]
     },
     "execution_count": 69,
     "metadata": {},
     "output_type": "execute_result"
    }
   ],
   "source": [
    "df.groupby(['category'])['status'].count().sort_values(ascending=False)\n",
    "#df.groupby('category').size().sort_values()"
   ]
  },
  {
   "cell_type": "code",
   "execution_count": 70,
   "metadata": {
    "ExecuteTime": {
     "end_time": "2021-05-29T09:58:26.180053Z",
     "start_time": "2021-05-29T09:58:26.155536Z"
    }
   },
   "outputs": [
    {
     "data": {
      "text/plain": [
       "category\n",
       "Art                 2106\n",
       "Comics               520\n",
       "Dance                527\n",
       "Design               729\n",
       "Fashion              335\n",
       "Film & Video         246\n",
       "Film &amp; Video    6177\n",
       "Food                 655\n",
       "Games                635\n",
       "Music               6792\n",
       "Photography          645\n",
       "Publishing          1671\n",
       "Technology           289\n",
       "Theater             1642\n",
       "Name: category, dtype: int64"
      ]
     },
     "execution_count": 70,
     "metadata": {},
     "output_type": "execute_result"
    }
   ],
   "source": [
    "df.groupby(df.loc[(df.status == 'successful'), 'category'])['category'].count()#.sort_values(ascending=False)"
   ]
  },
  {
   "cell_type": "code",
   "execution_count": 71,
   "metadata": {
    "ExecuteTime": {
     "end_time": "2021-05-29T09:58:26.188678Z",
     "start_time": "2021-05-29T09:58:26.182696Z"
    }
   },
   "outputs": [
    {
     "data": {
      "text/plain": [
       "\"g_c = df.groupby('status').count()\\ndf.loc[df.status == 'successful','category'] = g_c['category']['successful']\\n\\nprint(g_c['category']['successful'])\""
      ]
     },
     "execution_count": 71,
     "metadata": {},
     "output_type": "execute_result"
    }
   ],
   "source": [
    "'''g_c = df.groupby('status').count()\n",
    "df.loc[df.status == 'successful','category'] = g_c['category']['successful']\n",
    "\n",
    "print(g_c['category']['successful'])'''"
   ]
  },
  {
   "cell_type": "code",
   "execution_count": 72,
   "metadata": {
    "ExecuteTime": {
     "end_time": "2021-05-29T09:58:26.194642Z",
     "start_time": "2021-05-29T09:58:26.191476Z"
    }
   },
   "outputs": [],
   "source": [
    "#df.groupby([(df.status == 'successful'), 'category'])['category'].count()#.unstack('status')"
   ]
  },
  {
   "cell_type": "code",
   "execution_count": 73,
   "metadata": {
    "ExecuteTime": {
     "end_time": "2021-05-29T09:58:26.217323Z",
     "start_time": "2021-05-29T09:58:26.198039Z"
    }
   },
   "outputs": [
    {
     "data": {
      "text/html": [
       "<div>\n",
       "<style scoped>\n",
       "    .dataframe tbody tr th:only-of-type {\n",
       "        vertical-align: middle;\n",
       "    }\n",
       "\n",
       "    .dataframe tbody tr th {\n",
       "        vertical-align: top;\n",
       "    }\n",
       "\n",
       "    .dataframe thead th {\n",
       "        text-align: right;\n",
       "    }\n",
       "</style>\n",
       "<table border=\"1\" class=\"dataframe\">\n",
       "  <thead>\n",
       "    <tr style=\"text-align: right;\">\n",
       "      <th></th>\n",
       "      <th>category</th>\n",
       "      <th>status</th>\n",
       "    </tr>\n",
       "  </thead>\n",
       "  <tbody>\n",
       "    <tr>\n",
       "      <th>0</th>\n",
       "      <td>Film &amp;amp; Video</td>\n",
       "      <td>13053</td>\n",
       "    </tr>\n",
       "    <tr>\n",
       "      <th>1</th>\n",
       "      <td>Music</td>\n",
       "      <td>10913</td>\n",
       "    </tr>\n",
       "    <tr>\n",
       "      <th>2</th>\n",
       "      <td>Publishing</td>\n",
       "      <td>4770</td>\n",
       "    </tr>\n",
       "    <tr>\n",
       "      <th>3</th>\n",
       "      <td>Art</td>\n",
       "      <td>3992</td>\n",
       "    </tr>\n",
       "    <tr>\n",
       "      <th>4</th>\n",
       "      <td>Theater</td>\n",
       "      <td>2492</td>\n",
       "    </tr>\n",
       "    <tr>\n",
       "      <th>5</th>\n",
       "      <td>Design</td>\n",
       "      <td>1768</td>\n",
       "    </tr>\n",
       "    <tr>\n",
       "      <th>6</th>\n",
       "      <td>Games</td>\n",
       "      <td>1738</td>\n",
       "    </tr>\n",
       "    <tr>\n",
       "      <th>7</th>\n",
       "      <td>Photography</td>\n",
       "      <td>1514</td>\n",
       "    </tr>\n",
       "    <tr>\n",
       "      <th>8</th>\n",
       "      <td>Food</td>\n",
       "      <td>1439</td>\n",
       "    </tr>\n",
       "    <tr>\n",
       "      <th>9</th>\n",
       "      <td>Fashion</td>\n",
       "      <td>1136</td>\n",
       "    </tr>\n",
       "    <tr>\n",
       "      <th>10</th>\n",
       "      <td>Comics</td>\n",
       "      <td>1072</td>\n",
       "    </tr>\n",
       "    <tr>\n",
       "      <th>11</th>\n",
       "      <td>Technology</td>\n",
       "      <td>811</td>\n",
       "    </tr>\n",
       "    <tr>\n",
       "      <th>12</th>\n",
       "      <td>Dance</td>\n",
       "      <td>761</td>\n",
       "    </tr>\n",
       "    <tr>\n",
       "      <th>13</th>\n",
       "      <td>Film &amp; Video</td>\n",
       "      <td>498</td>\n",
       "    </tr>\n",
       "  </tbody>\n",
       "</table>\n",
       "</div>"
      ],
      "text/plain": [
       "            category  status\n",
       "0   Film &amp; Video   13053\n",
       "1              Music   10913\n",
       "2         Publishing    4770\n",
       "3                Art    3992\n",
       "4            Theater    2492\n",
       "5             Design    1768\n",
       "6              Games    1738\n",
       "7        Photography    1514\n",
       "8               Food    1439\n",
       "9            Fashion    1136\n",
       "10            Comics    1072\n",
       "11        Technology     811\n",
       "12             Dance     761\n",
       "13      Film & Video     498"
      ]
     },
     "execution_count": 73,
     "metadata": {},
     "output_type": "execute_result"
    }
   ],
   "source": [
    "df.groupby('category').status.count().sort_values(ascending=False).reset_index()"
   ]
  },
  {
   "cell_type": "code",
   "execution_count": 74,
   "metadata": {
    "ExecuteTime": {
     "end_time": "2021-05-29T09:58:26.249976Z",
     "start_time": "2021-05-29T09:58:26.225412Z"
    }
   },
   "outputs": [
    {
     "data": {
      "text/plain": [
       "category\n",
       "Music               6792\n",
       "Film &amp; Video    6177\n",
       "Art                 2106\n",
       "Publishing          1671\n",
       "Theater             1642\n",
       "Design               729\n",
       "Food                 655\n",
       "Photography          645\n",
       "Games                635\n",
       "Dance                527\n",
       "Comics               520\n",
       "Fashion              335\n",
       "Technology           289\n",
       "Film & Video         246\n",
       "Name: status, dtype: int64"
      ]
     },
     "execution_count": 74,
     "metadata": {},
     "output_type": "execute_result"
    }
   ],
   "source": [
    "successful_status = df[df.status =='successful']\\\n",
    "    .groupby('category')['status']\\\n",
    "    .count()\\\n",
    "    .sort_values(ascending=False)\n",
    "    #.unstack()\n",
    "\n",
    "successful_status\n"
   ]
  },
  {
   "cell_type": "code",
   "execution_count": 75,
   "metadata": {
    "ExecuteTime": {
     "end_time": "2021-05-29T09:58:26.260056Z",
     "start_time": "2021-05-29T09:58:26.254056Z"
    }
   },
   "outputs": [
    {
     "data": {
      "text/plain": [
       "array(['successful', 'failed', 'live', ..., 'successful', 'failed',\n",
       "       'successful'], dtype=object)"
      ]
     },
     "execution_count": 75,
     "metadata": {},
     "output_type": "execute_result"
    }
   ],
   "source": [
    "df.status.values"
   ]
  },
  {
   "cell_type": "code",
   "execution_count": 76,
   "metadata": {
    "ExecuteTime": {
     "end_time": "2021-05-29T09:58:26.296090Z",
     "start_time": "2021-05-29T09:58:26.264820Z"
    }
   },
   "outputs": [
    {
     "data": {
      "text/plain": [
       "project id              0\n",
       "name                    0\n",
       "url                     0\n",
       "category                0\n",
       "subcategory             0\n",
       "location             1322\n",
       "status                  0\n",
       "goal                    0\n",
       "pledged                12\n",
       "funded percentage       0\n",
       "backers                 0\n",
       "funded date             0\n",
       "levels                  0\n",
       "reward levels          59\n",
       "updates                 0\n",
       "comments                0\n",
       "duration                0\n",
       "dtype: int64"
      ]
     },
     "execution_count": 76,
     "metadata": {},
     "output_type": "execute_result"
    }
   ],
   "source": [
    "#look at null values\n",
    "df.isnull().sum()"
   ]
  },
  {
   "cell_type": "code",
   "execution_count": 77,
   "metadata": {
    "ExecuteTime": {
     "end_time": "2021-05-29T09:58:26.312692Z",
     "start_time": "2021-05-29T09:58:26.299485Z"
    }
   },
   "outputs": [
    {
     "data": {
      "text/plain": [
       "Film &amp; Video    13053\n",
       "Music               10913\n",
       "Publishing           4770\n",
       "Art                  3992\n",
       "Theater              2492\n",
       "Design               1768\n",
       "Games                1738\n",
       "Photography          1514\n",
       "Food                 1439\n",
       "Fashion              1136\n",
       "Comics               1072\n",
       "Technology            811\n",
       "Dance                 761\n",
       "Film & Video          498\n",
       "Name: category, dtype: int64"
      ]
     },
     "execution_count": 77,
     "metadata": {},
     "output_type": "execute_result"
    }
   ],
   "source": [
    "df.category.value_counts()\n"
   ]
  },
  {
   "cell_type": "code",
   "execution_count": 78,
   "metadata": {
    "ExecuteTime": {
     "end_time": "2021-05-29T09:58:26.319055Z",
     "start_time": "2021-05-29T09:58:26.314965Z"
    }
   },
   "outputs": [],
   "source": [
    "#df.subcategory.value_counts()"
   ]
  },
  {
   "cell_type": "code",
   "execution_count": 79,
   "metadata": {
    "ExecuteTime": {
     "end_time": "2021-05-29T09:58:26.326872Z",
     "start_time": "2021-05-29T09:58:26.322178Z"
    }
   },
   "outputs": [
    {
     "data": {
      "text/plain": [
       "\"def percent_plot(data, title):\\n    ax = data.plot(kind='bar')\\n    plt.title(title)\\n    ax.yaxis.set_major_formatter(PercentFormatter())\\n    plt.show(); \""
      ]
     },
     "execution_count": 79,
     "metadata": {},
     "output_type": "execute_result"
    }
   ],
   "source": [
    "'''def percent_plot(data, title):\n",
    "    ax = data.plot(kind='bar')\n",
    "    plt.title(title)\n",
    "    ax.yaxis.set_major_formatter(PercentFormatter())\n",
    "    plt.show(); '''"
   ]
  },
  {
   "cell_type": "code",
   "execution_count": 80,
   "metadata": {
    "ExecuteTime": {
     "end_time": "2021-05-29T09:58:26.334191Z",
     "start_time": "2021-05-29T09:58:26.329557Z"
    }
   },
   "outputs": [
    {
     "data": {
      "text/plain": [
       "'percent_plot((df[df.status==\\'live\\'][1:].category.value_counts()/\\n              df[df.pledged<df.goal].shape[0]*100)[1:], \\n             \"Live Kickstarter Projects by Category\")'"
      ]
     },
     "execution_count": 80,
     "metadata": {},
     "output_type": "execute_result"
    }
   ],
   "source": [
    "#categories of live projects\n",
    "'''percent_plot((df[df.status=='live'][1:].category.value_counts()/\n",
    "              df[df.pledged<df.goal].shape[0]*100)[1:], \n",
    "             \"Live Kickstarter Projects by Category\")'''"
   ]
  },
  {
   "cell_type": "code",
   "execution_count": 81,
   "metadata": {
    "ExecuteTime": {
     "end_time": "2021-05-29T09:58:26.347448Z",
     "start_time": "2021-05-29T09:58:26.336986Z"
    }
   },
   "outputs": [
    {
     "data": {
      "text/plain": [
       "category\n",
       "Film & Video          498\n",
       "Dance                 761\n",
       "Technology            811\n",
       "Comics               1072\n",
       "Fashion              1136\n",
       "Food                 1439\n",
       "Photography          1514\n",
       "Games                1738\n",
       "Design               1768\n",
       "Theater              2492\n",
       "Art                  3992\n",
       "Publishing           4770\n",
       "Music               10913\n",
       "Film &amp; Video    13053\n",
       "dtype: int64"
      ]
     },
     "execution_count": 81,
     "metadata": {},
     "output_type": "execute_result"
    }
   ],
   "source": [
    "df.groupby('category').size().sort_values()"
   ]
  },
  {
   "cell_type": "code",
   "execution_count": 82,
   "metadata": {
    "ExecuteTime": {
     "end_time": "2021-05-29T09:58:26.361577Z",
     "start_time": "2021-05-29T09:58:26.350233Z"
    }
   },
   "outputs": [
    {
     "data": {
      "text/plain": [
       "successful    22969\n",
       "failed        18996\n",
       "live           3929\n",
       "canceled         59\n",
       "suspended         4\n",
       "Name: status, dtype: int64"
      ]
     },
     "execution_count": 82,
     "metadata": {},
     "output_type": "execute_result"
    }
   ],
   "source": [
    "df['status'].value_counts()\n"
   ]
  },
  {
   "cell_type": "code",
   "execution_count": 83,
   "metadata": {
    "ExecuteTime": {
     "end_time": "2021-05-29T09:58:26.398237Z",
     "start_time": "2021-05-29T09:58:26.363769Z"
    }
   },
   "outputs": [
    {
     "data": {
      "text/plain": [
       "successful    22969\n",
       "failed        18996\n",
       "Name: status, dtype: int64"
      ]
     },
     "execution_count": 83,
     "metadata": {},
     "output_type": "execute_result"
    }
   ],
   "source": [
    "df1 = df.loc[df['status'].isin(\n",
    "            ['successful', 'failed'])]\n",
    "\n",
    "df1['status'].value_counts()"
   ]
  },
  {
   "cell_type": "code",
   "execution_count": 84,
   "metadata": {
    "ExecuteTime": {
     "end_time": "2021-05-29T09:58:26.405735Z",
     "start_time": "2021-05-29T09:58:26.401179Z"
    }
   },
   "outputs": [
    {
     "data": {
      "text/plain": [
       "45957"
      ]
     },
     "execution_count": 84,
     "metadata": {},
     "output_type": "execute_result"
    }
   ],
   "source": [
    "len(df['status'])"
   ]
  },
  {
   "cell_type": "code",
   "execution_count": 85,
   "metadata": {
    "ExecuteTime": {
     "end_time": "2021-05-29T09:58:26.432879Z",
     "start_time": "2021-05-29T09:58:26.408641Z"
    }
   },
   "outputs": [],
   "source": [
    "df['is_successful'] = df.status.apply(lambda x: 1 if x == 'successful' else 0)"
   ]
  },
  {
   "cell_type": "code",
   "execution_count": 86,
   "metadata": {
    "ExecuteTime": {
     "end_time": "2021-05-29T09:58:26.450190Z",
     "start_time": "2021-05-29T09:58:26.435166Z"
    }
   },
   "outputs": [
    {
     "data": {
      "text/plain": [
       "22969"
      ]
     },
     "execution_count": 86,
     "metadata": {},
     "output_type": "execute_result"
    }
   ],
   "source": [
    "len(df[df['is_successful'] == 1])"
   ]
  },
  {
   "cell_type": "code",
   "execution_count": 88,
   "metadata": {
    "ExecuteTime": {
     "end_time": "2021-05-29T09:58:27.262349Z",
     "start_time": "2021-05-29T09:58:27.252009Z"
    }
   },
   "outputs": [
    {
     "data": {
      "text/plain": [
       "22988"
      ]
     },
     "execution_count": 88,
     "metadata": {},
     "output_type": "execute_result"
    }
   ],
   "source": [
    "len(df[df['is_successful'] == 0])"
   ]
  },
  {
   "cell_type": "code",
   "execution_count": 89,
   "metadata": {
    "ExecuteTime": {
     "end_time": "2021-05-29T09:58:27.791125Z",
     "start_time": "2021-05-29T09:58:27.742110Z"
    }
   },
   "outputs": [
    {
     "data": {
      "text/plain": [
       "0    [Fri,  19 Aug 2011 19:28:17 -0000]\n",
       "1    [Mon,  02 Aug 2010 03:59:00 -0000]\n",
       "2    [Fri,  08 Jun 2012 00:00:31 -0000]\n",
       "3    [Sun,  08 Apr 2012 02:14:00 -0000]\n",
       "4    [Wed,  01 Jun 2011 15:25:39 -0000]\n",
       "5    [Wed,  22 Jun 2011 13:33:00 -0000]\n",
       "6    [Sat,  18 Feb 2012 02:17:08 -0000]\n",
       "7    [Fri,  30 Dec 2011 04:36:53 -0000]\n",
       "8    [Sun,  18 Apr 2010 04:59:00 -0000]\n",
       "9    [Tue,  01 Nov 2011 04:59:00 -0000]\n",
       "Name: Day, dtype: object"
      ]
     },
     "execution_count": 89,
     "metadata": {},
     "output_type": "execute_result"
    }
   ],
   "source": [
    "df['Day'] = df['funded date'].str.split(',')\n",
    "df['Day'].head(10)"
   ]
  },
  {
   "cell_type": "code",
   "execution_count": 91,
   "metadata": {
    "ExecuteTime": {
     "end_time": "2021-05-29T09:58:35.568857Z",
     "start_time": "2021-05-29T09:58:35.441848Z"
    }
   },
   "outputs": [
    {
     "data": {
      "text/plain": [
       "0    Fri\n",
       "1    Mon\n",
       "2    Fri\n",
       "3    Sun\n",
       "4    Wed\n",
       "5    Wed\n",
       "6    Sat\n",
       "7    Fri\n",
       "8    Sun\n",
       "9    Tue\n",
       "Name: Day, dtype: object"
      ]
     },
     "execution_count": 91,
     "metadata": {},
     "output_type": "execute_result"
    }
   ],
   "source": [
    "df['Day'] = df['funded date'].str.split(',',  expand=True)\n",
    "df['Day'].head(10)"
   ]
  },
  {
   "cell_type": "code",
   "execution_count": 92,
   "metadata": {
    "ExecuteTime": {
     "end_time": "2021-05-29T09:58:44.169828Z",
     "start_time": "2021-05-29T09:58:37.894933Z"
    }
   },
   "outputs": [
    {
     "data": {
      "text/html": [
       "<div>\n",
       "<style scoped>\n",
       "    .dataframe tbody tr th:only-of-type {\n",
       "        vertical-align: middle;\n",
       "    }\n",
       "\n",
       "    .dataframe tbody tr th {\n",
       "        vertical-align: top;\n",
       "    }\n",
       "\n",
       "    .dataframe thead th {\n",
       "        text-align: right;\n",
       "    }\n",
       "</style>\n",
       "<table border=\"1\" class=\"dataframe\">\n",
       "  <thead>\n",
       "    <tr style=\"text-align: right;\">\n",
       "      <th></th>\n",
       "      <th>category</th>\n",
       "      <th>duration</th>\n",
       "      <th>funded date</th>\n",
       "      <th>goal</th>\n",
       "      <th>pledged</th>\n",
       "      <th>backers</th>\n",
       "      <th>Day</th>\n",
       "      <th>is_successful</th>\n",
       "      <th>status</th>\n",
       "      <th>year</th>\n",
       "      <th>month</th>\n",
       "      <th>day</th>\n",
       "      <th>hour</th>\n",
       "    </tr>\n",
       "  </thead>\n",
       "  <tbody>\n",
       "    <tr>\n",
       "      <th>0</th>\n",
       "      <td>Film &amp; Video</td>\n",
       "      <td>30.00</td>\n",
       "      <td>Fri, 19 Aug 2011 19:28:17 -0000</td>\n",
       "      <td>10500.0</td>\n",
       "      <td>11545.0</td>\n",
       "      <td>66</td>\n",
       "      <td>Fri</td>\n",
       "      <td>1</td>\n",
       "      <td>successful</td>\n",
       "      <td>2011</td>\n",
       "      <td>Aug</td>\n",
       "      <td>19</td>\n",
       "      <td>19</td>\n",
       "    </tr>\n",
       "    <tr>\n",
       "      <th>1</th>\n",
       "      <td>Games</td>\n",
       "      <td>47.18</td>\n",
       "      <td>Mon, 02 Aug 2010 03:59:00 -0000</td>\n",
       "      <td>4000.0</td>\n",
       "      <td>20.0</td>\n",
       "      <td>2</td>\n",
       "      <td>Mon</td>\n",
       "      <td>0</td>\n",
       "      <td>failed</td>\n",
       "      <td>2010</td>\n",
       "      <td>Aug</td>\n",
       "      <td>2</td>\n",
       "      <td>3</td>\n",
       "    </tr>\n",
       "    <tr>\n",
       "      <th>2</th>\n",
       "      <td>Film &amp; Video</td>\n",
       "      <td>28.00</td>\n",
       "      <td>Fri, 08 Jun 2012 00:00:31 -0000</td>\n",
       "      <td>20000.0</td>\n",
       "      <td>56.0</td>\n",
       "      <td>3</td>\n",
       "      <td>Fri</td>\n",
       "      <td>0</td>\n",
       "      <td>live</td>\n",
       "      <td>2012</td>\n",
       "      <td>Jun</td>\n",
       "      <td>8</td>\n",
       "      <td>0</td>\n",
       "    </tr>\n",
       "    <tr>\n",
       "      <th>3</th>\n",
       "      <td>Film &amp; Video</td>\n",
       "      <td>32.22</td>\n",
       "      <td>Sun, 08 Apr 2012 02:14:00 -0000</td>\n",
       "      <td>6000.0</td>\n",
       "      <td>6535.0</td>\n",
       "      <td>100</td>\n",
       "      <td>Sun</td>\n",
       "      <td>1</td>\n",
       "      <td>successful</td>\n",
       "      <td>2012</td>\n",
       "      <td>Apr</td>\n",
       "      <td>8</td>\n",
       "      <td>2</td>\n",
       "    </tr>\n",
       "    <tr>\n",
       "      <th>4</th>\n",
       "      <td>Fashion</td>\n",
       "      <td>30.00</td>\n",
       "      <td>Wed, 01 Jun 2011 15:25:39 -0000</td>\n",
       "      <td>3500.0</td>\n",
       "      <td>0.0</td>\n",
       "      <td>0</td>\n",
       "      <td>Wed</td>\n",
       "      <td>0</td>\n",
       "      <td>failed</td>\n",
       "      <td>2011</td>\n",
       "      <td>Jun</td>\n",
       "      <td>1</td>\n",
       "      <td>15</td>\n",
       "    </tr>\n",
       "  </tbody>\n",
       "</table>\n",
       "</div>"
      ],
      "text/plain": [
       "       category  duration                      funded date     goal  pledged  \\\n",
       "0  Film & Video     30.00  Fri, 19 Aug 2011 19:28:17 -0000  10500.0  11545.0   \n",
       "1         Games     47.18  Mon, 02 Aug 2010 03:59:00 -0000   4000.0     20.0   \n",
       "2  Film & Video     28.00  Fri, 08 Jun 2012 00:00:31 -0000  20000.0     56.0   \n",
       "3  Film & Video     32.22  Sun, 08 Apr 2012 02:14:00 -0000   6000.0   6535.0   \n",
       "4       Fashion     30.00  Wed, 01 Jun 2011 15:25:39 -0000   3500.0      0.0   \n",
       "\n",
       "   backers  Day  is_successful      status  year month  day  hour  \n",
       "0       66  Fri              1  successful  2011   Aug   19    19  \n",
       "1        2  Mon              0      failed  2010   Aug    2     3  \n",
       "2        3  Fri              0        live  2012   Jun    8     0  \n",
       "3      100  Sun              1  successful  2012   Apr    8     2  \n",
       "4        0  Wed              0      failed  2011   Jun    1    15  "
      ]
     },
     "execution_count": 92,
     "metadata": {},
     "output_type": "execute_result"
    }
   ],
   "source": [
    "df2 = df[[\"category\", \"duration\", \"funded date\", \"goal\", \"pledged\", \"backers\", 'Day', 'is_successful', 'status']].copy()\n",
    "df['datetime'] = pd.to_datetime(df['funded date'])\n",
    "\n",
    "df2['year']=df['datetime'].dt.year\n",
    "df2['month']=df['datetime'].dt.month_name().str.slice(stop=3)\n",
    "df2['day']=df['datetime'].dt.day\n",
    "df2['hour']=df['datetime'].dt.hour\n",
    "\n",
    "\n",
    "#ata_kick = data_kick.loc[data_kick.state == 'successful',['launched_hour', 'state']]\n",
    "\n",
    "#df['duration']=(df['deadline']-df['launched']).astype('timedelta64[D]').astype(int)\n",
    "df2.head()"
   ]
  },
  {
   "cell_type": "code",
   "execution_count": 93,
   "metadata": {
    "ExecuteTime": {
     "end_time": "2021-05-29T09:58:44.221198Z",
     "start_time": "2021-05-29T09:58:44.172150Z"
    }
   },
   "outputs": [
    {
     "data": {
      "text/html": [
       "<div>\n",
       "<style scoped>\n",
       "    .dataframe tbody tr th:only-of-type {\n",
       "        vertical-align: middle;\n",
       "    }\n",
       "\n",
       "    .dataframe tbody tr th {\n",
       "        vertical-align: top;\n",
       "    }\n",
       "\n",
       "    .dataframe thead th {\n",
       "        text-align: right;\n",
       "    }\n",
       "</style>\n",
       "<table border=\"1\" class=\"dataframe\">\n",
       "  <thead>\n",
       "    <tr style=\"text-align: right;\">\n",
       "      <th></th>\n",
       "      <th>duration</th>\n",
       "      <th>goal</th>\n",
       "      <th>pledged</th>\n",
       "      <th>backers</th>\n",
       "      <th>is_successful</th>\n",
       "      <th>year</th>\n",
       "      <th>day</th>\n",
       "      <th>hour</th>\n",
       "    </tr>\n",
       "  </thead>\n",
       "  <tbody>\n",
       "    <tr>\n",
       "      <th>count</th>\n",
       "      <td>45957.000000</td>\n",
       "      <td>4.595700e+04</td>\n",
       "      <td>4.594500e+04</td>\n",
       "      <td>45957.000000</td>\n",
       "      <td>45957.000000</td>\n",
       "      <td>45957.000000</td>\n",
       "      <td>45957.000000</td>\n",
       "      <td>45957.000000</td>\n",
       "    </tr>\n",
       "    <tr>\n",
       "      <th>mean</th>\n",
       "      <td>39.995547</td>\n",
       "      <td>1.194271e+04</td>\n",
       "      <td>4.980750e+03</td>\n",
       "      <td>69.973192</td>\n",
       "      <td>0.499793</td>\n",
       "      <td>2011.199513</td>\n",
       "      <td>14.915203</td>\n",
       "      <td>11.445329</td>\n",
       "    </tr>\n",
       "    <tr>\n",
       "      <th>std</th>\n",
       "      <td>17.414458</td>\n",
       "      <td>1.887583e+05</td>\n",
       "      <td>5.674162e+04</td>\n",
       "      <td>688.628479</td>\n",
       "      <td>0.500005</td>\n",
       "      <td>0.752830</td>\n",
       "      <td>9.118437</td>\n",
       "      <td>7.871498</td>\n",
       "    </tr>\n",
       "    <tr>\n",
       "      <th>min</th>\n",
       "      <td>1.000000</td>\n",
       "      <td>1.000000e-02</td>\n",
       "      <td>0.000000e+00</td>\n",
       "      <td>0.000000</td>\n",
       "      <td>0.000000</td>\n",
       "      <td>2009.000000</td>\n",
       "      <td>1.000000</td>\n",
       "      <td>0.000000</td>\n",
       "    </tr>\n",
       "    <tr>\n",
       "      <th>25%</th>\n",
       "      <td>30.000000</td>\n",
       "      <td>1.800000e+03</td>\n",
       "      <td>1.960000e+02</td>\n",
       "      <td>5.000000</td>\n",
       "      <td>0.000000</td>\n",
       "      <td>2011.000000</td>\n",
       "      <td>7.000000</td>\n",
       "      <td>4.000000</td>\n",
       "    </tr>\n",
       "    <tr>\n",
       "      <th>50%</th>\n",
       "      <td>32.000000</td>\n",
       "      <td>4.000000e+03</td>\n",
       "      <td>1.310000e+03</td>\n",
       "      <td>23.000000</td>\n",
       "      <td>0.000000</td>\n",
       "      <td>2011.000000</td>\n",
       "      <td>15.000000</td>\n",
       "      <td>13.000000</td>\n",
       "    </tr>\n",
       "    <tr>\n",
       "      <th>75%</th>\n",
       "      <td>48.390000</td>\n",
       "      <td>9.862000e+03</td>\n",
       "      <td>4.165000e+03</td>\n",
       "      <td>59.000000</td>\n",
       "      <td>1.000000</td>\n",
       "      <td>2012.000000</td>\n",
       "      <td>23.000000</td>\n",
       "      <td>19.000000</td>\n",
       "    </tr>\n",
       "    <tr>\n",
       "      <th>max</th>\n",
       "      <td>91.960000</td>\n",
       "      <td>2.147484e+07</td>\n",
       "      <td>1.026684e+07</td>\n",
       "      <td>87142.000000</td>\n",
       "      <td>1.000000</td>\n",
       "      <td>2012.000000</td>\n",
       "      <td>31.000000</td>\n",
       "      <td>23.000000</td>\n",
       "    </tr>\n",
       "  </tbody>\n",
       "</table>\n",
       "</div>"
      ],
      "text/plain": [
       "           duration          goal       pledged       backers  is_successful  \\\n",
       "count  45957.000000  4.595700e+04  4.594500e+04  45957.000000   45957.000000   \n",
       "mean      39.995547  1.194271e+04  4.980750e+03     69.973192       0.499793   \n",
       "std       17.414458  1.887583e+05  5.674162e+04    688.628479       0.500005   \n",
       "min        1.000000  1.000000e-02  0.000000e+00      0.000000       0.000000   \n",
       "25%       30.000000  1.800000e+03  1.960000e+02      5.000000       0.000000   \n",
       "50%       32.000000  4.000000e+03  1.310000e+03     23.000000       0.000000   \n",
       "75%       48.390000  9.862000e+03  4.165000e+03     59.000000       1.000000   \n",
       "max       91.960000  2.147484e+07  1.026684e+07  87142.000000       1.000000   \n",
       "\n",
       "               year           day          hour  \n",
       "count  45957.000000  45957.000000  45957.000000  \n",
       "mean    2011.199513     14.915203     11.445329  \n",
       "std        0.752830      9.118437      7.871498  \n",
       "min     2009.000000      1.000000      0.000000  \n",
       "25%     2011.000000      7.000000      4.000000  \n",
       "50%     2011.000000     15.000000     13.000000  \n",
       "75%     2012.000000     23.000000     19.000000  \n",
       "max     2012.000000     31.000000     23.000000  "
      ]
     },
     "execution_count": 93,
     "metadata": {},
     "output_type": "execute_result"
    }
   ],
   "source": [
    "df2.describe()"
   ]
  },
  {
   "cell_type": "code",
   "execution_count": 94,
   "metadata": {
    "ExecuteTime": {
     "end_time": "2021-05-29T09:58:47.044760Z",
     "start_time": "2021-05-29T09:58:47.032632Z"
    }
   },
   "outputs": [
    {
     "data": {
      "text/html": [
       "<div>\n",
       "<style scoped>\n",
       "    .dataframe tbody tr th:only-of-type {\n",
       "        vertical-align: middle;\n",
       "    }\n",
       "\n",
       "    .dataframe tbody tr th {\n",
       "        vertical-align: top;\n",
       "    }\n",
       "\n",
       "    .dataframe thead th {\n",
       "        text-align: right;\n",
       "    }\n",
       "</style>\n",
       "<table border=\"1\" class=\"dataframe\">\n",
       "  <thead>\n",
       "    <tr style=\"text-align: right;\">\n",
       "      <th></th>\n",
       "      <th>duration</th>\n",
       "      <th>status</th>\n",
       "    </tr>\n",
       "  </thead>\n",
       "  <tbody>\n",
       "    <tr>\n",
       "      <th>0</th>\n",
       "      <td>30.00</td>\n",
       "      <td>successful</td>\n",
       "    </tr>\n",
       "    <tr>\n",
       "      <th>1</th>\n",
       "      <td>47.18</td>\n",
       "      <td>failed</td>\n",
       "    </tr>\n",
       "    <tr>\n",
       "      <th>2</th>\n",
       "      <td>28.00</td>\n",
       "      <td>live</td>\n",
       "    </tr>\n",
       "    <tr>\n",
       "      <th>3</th>\n",
       "      <td>32.22</td>\n",
       "      <td>successful</td>\n",
       "    </tr>\n",
       "    <tr>\n",
       "      <th>4</th>\n",
       "      <td>30.00</td>\n",
       "      <td>failed</td>\n",
       "    </tr>\n",
       "    <tr>\n",
       "      <th>...</th>\n",
       "      <td>...</td>\n",
       "      <td>...</td>\n",
       "    </tr>\n",
       "    <tr>\n",
       "      <th>45952</th>\n",
       "      <td>37.83</td>\n",
       "      <td>successful</td>\n",
       "    </tr>\n",
       "    <tr>\n",
       "      <th>45953</th>\n",
       "      <td>59.96</td>\n",
       "      <td>failed</td>\n",
       "    </tr>\n",
       "    <tr>\n",
       "      <th>45954</th>\n",
       "      <td>27.32</td>\n",
       "      <td>successful</td>\n",
       "    </tr>\n",
       "    <tr>\n",
       "      <th>45955</th>\n",
       "      <td>30.00</td>\n",
       "      <td>failed</td>\n",
       "    </tr>\n",
       "    <tr>\n",
       "      <th>45956</th>\n",
       "      <td>40.38</td>\n",
       "      <td>successful</td>\n",
       "    </tr>\n",
       "  </tbody>\n",
       "</table>\n",
       "<p>45957 rows × 2 columns</p>\n",
       "</div>"
      ],
      "text/plain": [
       "       duration      status\n",
       "0         30.00  successful\n",
       "1         47.18      failed\n",
       "2         28.00        live\n",
       "3         32.22  successful\n",
       "4         30.00      failed\n",
       "...         ...         ...\n",
       "45952     37.83  successful\n",
       "45953     59.96      failed\n",
       "45954     27.32  successful\n",
       "45955     30.00      failed\n",
       "45956     40.38  successful\n",
       "\n",
       "[45957 rows x 2 columns]"
      ]
     },
     "execution_count": 94,
     "metadata": {},
     "output_type": "execute_result"
    }
   ],
   "source": [
    "df_sr = df2[['duration', 'status']].copy()\n",
    "df_sr"
   ]
  },
  {
   "cell_type": "code",
   "execution_count": 95,
   "metadata": {
    "ExecuteTime": {
     "end_time": "2021-05-29T09:58:47.579282Z",
     "start_time": "2021-05-29T09:58:47.217240Z"
    }
   },
   "outputs": [],
   "source": [
    "duration = []\n",
    "\n",
    "for i in range(len(df_sr)):\n",
    "    duration.append(round(df_sr['duration'][i]))\n",
    "\n",
    "#duration    "
   ]
  },
  {
   "cell_type": "code",
   "execution_count": 96,
   "metadata": {
    "ExecuteTime": {
     "end_time": "2021-05-29T09:58:47.978908Z",
     "start_time": "2021-05-29T09:58:47.952667Z"
    }
   },
   "outputs": [
    {
     "data": {
      "text/html": [
       "<div>\n",
       "<style scoped>\n",
       "    .dataframe tbody tr th:only-of-type {\n",
       "        vertical-align: middle;\n",
       "    }\n",
       "\n",
       "    .dataframe tbody tr th {\n",
       "        vertical-align: top;\n",
       "    }\n",
       "\n",
       "    .dataframe thead th {\n",
       "        text-align: right;\n",
       "    }\n",
       "</style>\n",
       "<table border=\"1\" class=\"dataframe\">\n",
       "  <thead>\n",
       "    <tr style=\"text-align: right;\">\n",
       "      <th></th>\n",
       "      <th>duration</th>\n",
       "      <th>status</th>\n",
       "      <th>duration_rounded</th>\n",
       "    </tr>\n",
       "  </thead>\n",
       "  <tbody>\n",
       "    <tr>\n",
       "      <th>0</th>\n",
       "      <td>30.00</td>\n",
       "      <td>successful</td>\n",
       "      <td>30</td>\n",
       "    </tr>\n",
       "    <tr>\n",
       "      <th>1</th>\n",
       "      <td>47.18</td>\n",
       "      <td>failed</td>\n",
       "      <td>47</td>\n",
       "    </tr>\n",
       "    <tr>\n",
       "      <th>2</th>\n",
       "      <td>28.00</td>\n",
       "      <td>live</td>\n",
       "      <td>28</td>\n",
       "    </tr>\n",
       "    <tr>\n",
       "      <th>3</th>\n",
       "      <td>32.22</td>\n",
       "      <td>successful</td>\n",
       "      <td>32</td>\n",
       "    </tr>\n",
       "    <tr>\n",
       "      <th>4</th>\n",
       "      <td>30.00</td>\n",
       "      <td>failed</td>\n",
       "      <td>30</td>\n",
       "    </tr>\n",
       "    <tr>\n",
       "      <th>...</th>\n",
       "      <td>...</td>\n",
       "      <td>...</td>\n",
       "      <td>...</td>\n",
       "    </tr>\n",
       "    <tr>\n",
       "      <th>45952</th>\n",
       "      <td>37.83</td>\n",
       "      <td>successful</td>\n",
       "      <td>38</td>\n",
       "    </tr>\n",
       "    <tr>\n",
       "      <th>45953</th>\n",
       "      <td>59.96</td>\n",
       "      <td>failed</td>\n",
       "      <td>60</td>\n",
       "    </tr>\n",
       "    <tr>\n",
       "      <th>45954</th>\n",
       "      <td>27.32</td>\n",
       "      <td>successful</td>\n",
       "      <td>27</td>\n",
       "    </tr>\n",
       "    <tr>\n",
       "      <th>45955</th>\n",
       "      <td>30.00</td>\n",
       "      <td>failed</td>\n",
       "      <td>30</td>\n",
       "    </tr>\n",
       "    <tr>\n",
       "      <th>45956</th>\n",
       "      <td>40.38</td>\n",
       "      <td>successful</td>\n",
       "      <td>40</td>\n",
       "    </tr>\n",
       "  </tbody>\n",
       "</table>\n",
       "<p>45957 rows × 3 columns</p>\n",
       "</div>"
      ],
      "text/plain": [
       "       duration      status  duration_rounded\n",
       "0         30.00  successful                30\n",
       "1         47.18      failed                47\n",
       "2         28.00        live                28\n",
       "3         32.22  successful                32\n",
       "4         30.00      failed                30\n",
       "...         ...         ...               ...\n",
       "45952     37.83  successful                38\n",
       "45953     59.96      failed                60\n",
       "45954     27.32  successful                27\n",
       "45955     30.00      failed                30\n",
       "45956     40.38  successful                40\n",
       "\n",
       "[45957 rows x 3 columns]"
      ]
     },
     "execution_count": 96,
     "metadata": {},
     "output_type": "execute_result"
    }
   ],
   "source": [
    "#df_sr.replace(to_replace, inplace=True) \n",
    "df_sr['duration_rounded'] = duration\n",
    "df_sr"
   ]
  },
  {
   "cell_type": "code",
   "execution_count": 97,
   "metadata": {
    "ExecuteTime": {
     "end_time": "2021-05-29T09:58:48.811510Z",
     "start_time": "2021-05-29T09:58:48.799991Z"
    }
   },
   "outputs": [],
   "source": [
    "dfr = df_sr.groupby(['duration_rounded', 'status'])['status'].count().unstack()#.sort_values(by='month')\n",
    "#dfr"
   ]
  },
  {
   "cell_type": "code",
   "execution_count": 98,
   "metadata": {
    "ExecuteTime": {
     "end_time": "2021-05-29T09:58:51.463577Z",
     "start_time": "2021-05-29T09:58:51.391513Z"
    }
   },
   "outputs": [
    {
     "data": {
      "text/html": [
       "<div>\n",
       "<style scoped>\n",
       "    .dataframe tbody tr th:only-of-type {\n",
       "        vertical-align: middle;\n",
       "    }\n",
       "\n",
       "    .dataframe tbody tr th {\n",
       "        vertical-align: top;\n",
       "    }\n",
       "\n",
       "    .dataframe thead th {\n",
       "        text-align: right;\n",
       "    }\n",
       "</style>\n",
       "<table border=\"1\" class=\"dataframe\">\n",
       "  <thead>\n",
       "    <tr style=\"text-align: right;\">\n",
       "      <th>status</th>\n",
       "      <th>canceled</th>\n",
       "      <th>failed</th>\n",
       "      <th>live</th>\n",
       "      <th>successful</th>\n",
       "      <th>suspended</th>\n",
       "      <th>success_rate</th>\n",
       "    </tr>\n",
       "    <tr>\n",
       "      <th>duration_rounded</th>\n",
       "      <th></th>\n",
       "      <th></th>\n",
       "      <th></th>\n",
       "      <th></th>\n",
       "      <th></th>\n",
       "      <th></th>\n",
       "    </tr>\n",
       "  </thead>\n",
       "  <tbody>\n",
       "    <tr>\n",
       "      <th>1</th>\n",
       "      <td>NaN</td>\n",
       "      <td>2.0</td>\n",
       "      <td>NaN</td>\n",
       "      <td>7.0</td>\n",
       "      <td>NaN</td>\n",
       "      <td>77.777778</td>\n",
       "    </tr>\n",
       "    <tr>\n",
       "      <th>2</th>\n",
       "      <td>NaN</td>\n",
       "      <td>7.0</td>\n",
       "      <td>NaN</td>\n",
       "      <td>11.0</td>\n",
       "      <td>NaN</td>\n",
       "      <td>61.111111</td>\n",
       "    </tr>\n",
       "    <tr>\n",
       "      <th>3</th>\n",
       "      <td>NaN</td>\n",
       "      <td>7.0</td>\n",
       "      <td>NaN</td>\n",
       "      <td>8.0</td>\n",
       "      <td>NaN</td>\n",
       "      <td>53.333333</td>\n",
       "    </tr>\n",
       "    <tr>\n",
       "      <th>4</th>\n",
       "      <td>NaN</td>\n",
       "      <td>5.0</td>\n",
       "      <td>NaN</td>\n",
       "      <td>10.0</td>\n",
       "      <td>NaN</td>\n",
       "      <td>66.666667</td>\n",
       "    </tr>\n",
       "    <tr>\n",
       "      <th>5</th>\n",
       "      <td>NaN</td>\n",
       "      <td>20.0</td>\n",
       "      <td>NaN</td>\n",
       "      <td>24.0</td>\n",
       "      <td>NaN</td>\n",
       "      <td>54.545455</td>\n",
       "    </tr>\n",
       "    <tr>\n",
       "      <th>...</th>\n",
       "      <td>...</td>\n",
       "      <td>...</td>\n",
       "      <td>...</td>\n",
       "      <td>...</td>\n",
       "      <td>...</td>\n",
       "      <td>...</td>\n",
       "    </tr>\n",
       "    <tr>\n",
       "      <th>88</th>\n",
       "      <td>NaN</td>\n",
       "      <td>47.0</td>\n",
       "      <td>NaN</td>\n",
       "      <td>35.0</td>\n",
       "      <td>NaN</td>\n",
       "      <td>42.682927</td>\n",
       "    </tr>\n",
       "    <tr>\n",
       "      <th>89</th>\n",
       "      <td>NaN</td>\n",
       "      <td>193.0</td>\n",
       "      <td>NaN</td>\n",
       "      <td>158.0</td>\n",
       "      <td>NaN</td>\n",
       "      <td>45.014245</td>\n",
       "    </tr>\n",
       "    <tr>\n",
       "      <th>90</th>\n",
       "      <td>NaN</td>\n",
       "      <td>657.0</td>\n",
       "      <td>NaN</td>\n",
       "      <td>384.0</td>\n",
       "      <td>NaN</td>\n",
       "      <td>36.887608</td>\n",
       "    </tr>\n",
       "    <tr>\n",
       "      <th>91</th>\n",
       "      <td>NaN</td>\n",
       "      <td>243.0</td>\n",
       "      <td>NaN</td>\n",
       "      <td>135.0</td>\n",
       "      <td>NaN</td>\n",
       "      <td>35.714286</td>\n",
       "    </tr>\n",
       "    <tr>\n",
       "      <th>92</th>\n",
       "      <td>NaN</td>\n",
       "      <td>9.0</td>\n",
       "      <td>NaN</td>\n",
       "      <td>4.0</td>\n",
       "      <td>NaN</td>\n",
       "      <td>30.769231</td>\n",
       "    </tr>\n",
       "  </tbody>\n",
       "</table>\n",
       "<p>92 rows × 6 columns</p>\n",
       "</div>"
      ],
      "text/plain": [
       "status            canceled  failed  live  successful  suspended  success_rate\n",
       "duration_rounded                                                             \n",
       "1                      NaN     2.0   NaN         7.0        NaN     77.777778\n",
       "2                      NaN     7.0   NaN        11.0        NaN     61.111111\n",
       "3                      NaN     7.0   NaN         8.0        NaN     53.333333\n",
       "4                      NaN     5.0   NaN        10.0        NaN     66.666667\n",
       "5                      NaN    20.0   NaN        24.0        NaN     54.545455\n",
       "...                    ...     ...   ...         ...        ...           ...\n",
       "88                     NaN    47.0   NaN        35.0        NaN     42.682927\n",
       "89                     NaN   193.0   NaN       158.0        NaN     45.014245\n",
       "90                     NaN   657.0   NaN       384.0        NaN     36.887608\n",
       "91                     NaN   243.0   NaN       135.0        NaN     35.714286\n",
       "92                     NaN     9.0   NaN         4.0        NaN     30.769231\n",
       "\n",
       "[92 rows x 6 columns]"
      ]
     },
     "execution_count": 98,
     "metadata": {},
     "output_type": "execute_result"
    }
   ],
   "source": [
    "for i in range(0, 92):\n",
    "    dfr['success_rate'] = dfr['successful']/(dfr['failed'] + dfr['successful']) * 100\n",
    "    \n",
    "dfr\n"
   ]
  },
  {
   "cell_type": "code",
   "execution_count": 99,
   "metadata": {
    "ExecuteTime": {
     "end_time": "2021-05-29T09:58:52.238629Z",
     "start_time": "2021-05-29T09:58:52.235762Z"
    }
   },
   "outputs": [],
   "source": [
    "loc2 = range(len(dfr['success_rate']))\n",
    "labels2= dfr.index"
   ]
  },
  {
   "cell_type": "code",
   "execution_count": 100,
   "metadata": {
    "ExecuteTime": {
     "end_time": "2021-05-29T09:58:58.369061Z",
     "start_time": "2021-05-29T09:58:52.965032Z"
    }
   },
   "outputs": [
    {
     "data": {
      "image/png": "[encoded data removed]",
      "text/plain": [
       "<Figure size 1800x720 with 1 Axes>"
      ]
     },
     "metadata": {
      "needs_background": "light"
     },
     "output_type": "display_data"
    }
   ],
   "source": [
    "plt.figure(figsize=(25,10))\n",
    "sns.set(style=\"white\")\n",
    "plt.scatter(labels2, dfr.success_rate)\n",
    "plt.title(\"Success Rates and Projects Duration in Days\")\n",
    "plt.ylabel(\"Success Rates\")\n",
    "plt.xlabel(\"Days\")\n",
    "plt.xticks(labels2)\n",
    "plt.gca().yaxis.set_major_formatter(mtick.PercentFormatter())\n",
    "plt.savefig(\"Success Rates and Projects Duration in Days.png\", dpi=100, bbox_inches='tight')\n",
    "\n",
    "plt.show()"
   ]
  },
  {
   "cell_type": "code",
   "execution_count": 101,
   "metadata": {
    "ExecuteTime": {
     "end_time": "2021-05-29T09:59:18.768069Z",
     "start_time": "2021-05-29T09:59:18.755818Z"
    }
   },
   "outputs": [],
   "source": [
    "df_i = df[['project id', 'name', 'category', 'subcategory', 'goal', 'pledged', 'status', 'funded percentage', 'backers', 'duration', 'location']].copy()\n"
   ]
  },
  {
   "cell_type": "code",
   "execution_count": 102,
   "metadata": {
    "ExecuteTime": {
     "end_time": "2021-05-29T09:59:18.922824Z",
     "start_time": "2021-05-29T09:59:18.917082Z"
    }
   },
   "outputs": [
    {
     "data": {
      "text/plain": [
       "15066.0"
      ]
     },
     "execution_count": 102,
     "metadata": {},
     "output_type": "execute_result"
    }
   ],
   "source": [
    "df_i['funded percentage'].max()"
   ]
  },
  {
   "cell_type": "code",
   "execution_count": 103,
   "metadata": {
    "ExecuteTime": {
     "end_time": "2021-05-29T09:59:19.088332Z",
     "start_time": "2021-05-29T09:59:19.080034Z"
    }
   },
   "outputs": [
    {
     "data": {
      "text/plain": [
       "[6628]"
      ]
     },
     "execution_count": 103,
     "metadata": {},
     "output_type": "execute_result"
    }
   ],
   "source": [
    "df_i.index[df_i['funded percentage'] == 15066].tolist()"
   ]
  },
  {
   "cell_type": "code",
   "execution_count": 104,
   "metadata": {
    "ExecuteTime": {
     "end_time": "2021-05-29T09:59:19.290289Z",
     "start_time": "2021-05-29T09:59:19.269560Z"
    }
   },
   "outputs": [
    {
     "data": {
      "text/html": [
       "<div>\n",
       "<style scoped>\n",
       "    .dataframe tbody tr th:only-of-type {\n",
       "        vertical-align: middle;\n",
       "    }\n",
       "\n",
       "    .dataframe tbody tr th {\n",
       "        vertical-align: top;\n",
       "    }\n",
       "\n",
       "    .dataframe thead th {\n",
       "        text-align: right;\n",
       "    }\n",
       "</style>\n",
       "<table border=\"1\" class=\"dataframe\">\n",
       "  <thead>\n",
       "    <tr style=\"text-align: right;\">\n",
       "      <th></th>\n",
       "      <th>project id</th>\n",
       "      <th>name</th>\n",
       "      <th>category</th>\n",
       "      <th>subcategory</th>\n",
       "      <th>goal</th>\n",
       "      <th>pledged</th>\n",
       "      <th>status</th>\n",
       "      <th>funded percentage</th>\n",
       "      <th>backers</th>\n",
       "      <th>duration</th>\n",
       "      <th>location</th>\n",
       "    </tr>\n",
       "  </thead>\n",
       "  <tbody>\n",
       "    <tr>\n",
       "      <th>6628</th>\n",
       "      <td>313013590</td>\n",
       "      <td>Y (A Generation)</td>\n",
       "      <td>Film &amp;amp; Video</td>\n",
       "      <td>Documentary</td>\n",
       "      <td>1.0</td>\n",
       "      <td>15066.0</td>\n",
       "      <td>successful</td>\n",
       "      <td>15066.0</td>\n",
       "      <td>29</td>\n",
       "      <td>49.27</td>\n",
       "      <td>New Orleans, LA</td>\n",
       "    </tr>\n",
       "  </tbody>\n",
       "</table>\n",
       "</div>"
      ],
      "text/plain": [
       "      project id              name          category  subcategory  goal  \\\n",
       "6628   313013590  Y (A Generation)  Film &amp; Video  Documentary   1.0   \n",
       "\n",
       "      pledged      status  funded percentage  backers  duration  \\\n",
       "6628  15066.0  successful            15066.0       29     49.27   \n",
       "\n",
       "             location  \n",
       "6628  New Orleans, LA  "
      ]
     },
     "execution_count": 104,
     "metadata": {},
     "output_type": "execute_result"
    }
   ],
   "source": [
    "sel = list(np.where(df_i['funded percentage'] == 15066)[0])\n",
    "df_i.iloc[sel]"
   ]
  },
  {
   "cell_type": "code",
   "execution_count": 105,
   "metadata": {
    "ExecuteTime": {
     "end_time": "2021-05-29T09:59:19.470154Z",
     "start_time": "2021-05-29T09:59:19.453938Z"
    }
   },
   "outputs": [
    {
     "data": {
      "text/plain": [
       "10266845.0"
      ]
     },
     "execution_count": 105,
     "metadata": {},
     "output_type": "execute_result"
    }
   ],
   "source": [
    "df_i[df_i['status'] == 'successful'].pledged.max()"
   ]
  },
  {
   "cell_type": "code",
   "execution_count": 106,
   "metadata": {
    "ExecuteTime": {
     "end_time": "2021-05-29T09:59:19.626698Z",
     "start_time": "2021-05-29T09:59:19.607611Z"
    }
   },
   "outputs": [
    {
     "data": {
      "text/html": [
       "<div>\n",
       "<style scoped>\n",
       "    .dataframe tbody tr th:only-of-type {\n",
       "        vertical-align: middle;\n",
       "    }\n",
       "\n",
       "    .dataframe tbody tr th {\n",
       "        vertical-align: top;\n",
       "    }\n",
       "\n",
       "    .dataframe thead th {\n",
       "        text-align: right;\n",
       "    }\n",
       "</style>\n",
       "<table border=\"1\" class=\"dataframe\">\n",
       "  <thead>\n",
       "    <tr style=\"text-align: right;\">\n",
       "      <th></th>\n",
       "      <th>project id</th>\n",
       "      <th>name</th>\n",
       "      <th>category</th>\n",
       "      <th>subcategory</th>\n",
       "      <th>goal</th>\n",
       "      <th>pledged</th>\n",
       "      <th>status</th>\n",
       "      <th>funded percentage</th>\n",
       "      <th>backers</th>\n",
       "      <th>duration</th>\n",
       "      <th>location</th>\n",
       "    </tr>\n",
       "  </thead>\n",
       "  <tbody>\n",
       "    <tr>\n",
       "      <th>10710</th>\n",
       "      <td>506924864</td>\n",
       "      <td>Pebble: E-Paper Watch for iPhone and Android</td>\n",
       "      <td>Design</td>\n",
       "      <td>Product Design</td>\n",
       "      <td>100000.0</td>\n",
       "      <td>10266845.0</td>\n",
       "      <td>successful</td>\n",
       "      <td>102.668457</td>\n",
       "      <td>68929</td>\n",
       "      <td>37.92</td>\n",
       "      <td>Palo Alto, CA</td>\n",
       "    </tr>\n",
       "  </tbody>\n",
       "</table>\n",
       "</div>"
      ],
      "text/plain": [
       "       project id                                          name category  \\\n",
       "10710   506924864  Pebble: E-Paper Watch for iPhone and Android   Design   \n",
       "\n",
       "          subcategory      goal     pledged      status  funded percentage  \\\n",
       "10710  Product Design  100000.0  10266845.0  successful         102.668457   \n",
       "\n",
       "       backers  duration       location  \n",
       "10710    68929     37.92  Palo Alto, CA  "
      ]
     },
     "execution_count": 106,
     "metadata": {},
     "output_type": "execute_result"
    }
   ],
   "source": [
    "ind = list(np.where(df_i['pledged'] == 10266845)[0])\n",
    "df_i.iloc[ind]"
   ]
  },
  {
   "cell_type": "code",
   "execution_count": 107,
   "metadata": {
    "ExecuteTime": {
     "end_time": "2021-05-29T09:59:19.789777Z",
     "start_time": "2021-05-29T09:59:19.774317Z"
    }
   },
   "outputs": [
    {
     "data": {
      "text/plain": [
       "3000.0"
      ]
     },
     "execution_count": 107,
     "metadata": {},
     "output_type": "execute_result"
    }
   ],
   "source": [
    "df_i[df_i['status'] == 'successful'].goal.median()"
   ]
  },
  {
   "cell_type": "code",
   "execution_count": 108,
   "metadata": {
    "ExecuteTime": {
     "end_time": "2021-05-29T09:59:20.267183Z",
     "start_time": "2021-05-29T09:59:19.942535Z"
    }
   },
   "outputs": [
    {
     "data": {
      "text/plain": [
       "Text(0.5, 0, 'Pledged')"
      ]
     },
     "execution_count": 108,
     "metadata": {},
     "output_type": "execute_result"
    },
    {
     "data": {
      "image/png": "[encoded data removed]",
      "text/plain": [
       "<Figure size 432x288 with 1 Axes>"
      ]
     },
     "metadata": {},
     "output_type": "display_data"
    }
   ],
   "source": [
    "plt.scatter(df_i.goal, df_i.pledged)\n",
    "plt.ylabel(\"Funded Goal\")\n",
    "plt.xlabel(\"Pledged\")"
   ]
  },
  {
   "cell_type": "code",
   "execution_count": 109,
   "metadata": {
    "ExecuteTime": {
     "end_time": "2021-05-29T09:59:20.918096Z",
     "start_time": "2021-05-29T09:59:20.271547Z"
    }
   },
   "outputs": [
    {
     "data": {
      "image/png": "[encoded data removed]",
      "text/plain": [
       "<Figure size 1008x504 with 1 Axes>"
      ]
     },
     "metadata": {},
     "output_type": "display_data"
    }
   ],
   "source": [
    "goal_df = df[['goal', 'pledged', 'category']]\n",
    "goal_df_grouped = goal_df.groupby(by='category').median()\n",
    "\n",
    "xs = np.array(goal_df_grouped.index)\n",
    "ys_1 = goal_df_grouped['goal'].values\n",
    "ys_2 = goal_df_grouped['pledged'].values\n",
    "\n",
    "sns.set(style=\"darkgrid\")\n",
    "\n",
    "fig, ax = plt.subplots(figsize=(14, 7))\n",
    "ax.spines['top'].set_visible(False)\n",
    "ax.spines['right'].set_visible(False)\n",
    "ax.set_title('Median Campaign Money Goal and Pledged', fontsize=20, pad=20)\n",
    "ax.set_xlabel('Category', fontsize=16, labelpad=20)\n",
    "ax.set_ylabel('Amount', fontsize=16, labelpad=20)\n",
    "\n",
    "plt.bar(x=[num for num in range(len(xs))], height=ys_1, color='mediumpurple', width=0.4, label='Goal', align='center')\n",
    "plt.bar(x=[num + 0.4 for num in range(len(xs))], height=ys_2, color='rebeccapurple', width=0.4, label='Pledged', align='center')\n",
    "\n",
    "ax.set_xticks(np.arange(len(xs)))\n",
    "ax.set_xticklabels(xs)\n",
    "\n",
    "y_fmt = '${x:,.2f}'\n",
    "y_tick = mtick.StrMethodFormatter(y_fmt)\n",
    "ax.yaxis.set_major_formatter(y_tick) \n",
    "\n",
    "plt.legend()\n",
    "plt.xticks(rotation=45)\n",
    "\n",
    "plt.savefig('Median Campaign Money Goal and Pledged.png', dpi=100, bbox_inches='tight')\n",
    "plt.show()"
   ]
  },
  {
   "cell_type": "code",
   "execution_count": 110,
   "metadata": {
    "ExecuteTime": {
     "end_time": "2021-05-29T09:59:20.924570Z",
     "start_time": "2021-05-29T09:59:20.920356Z"
    }
   },
   "outputs": [
    {
     "data": {
      "text/plain": [
       "4000.0"
      ]
     },
     "execution_count": 110,
     "metadata": {},
     "output_type": "execute_result"
    }
   ],
   "source": [
    "df.goal.median()"
   ]
  },
  {
   "cell_type": "code",
   "execution_count": 111,
   "metadata": {
    "ExecuteTime": {
     "end_time": "2021-05-29T09:59:20.942535Z",
     "start_time": "2021-05-29T09:59:20.927421Z"
    }
   },
   "outputs": [
    {
     "data": {
      "text/plain": [
       "3000.0"
      ]
     },
     "execution_count": 111,
     "metadata": {},
     "output_type": "execute_result"
    }
   ],
   "source": [
    "df[df['status'] == 'successful'].goal.median()"
   ]
  },
  {
   "cell_type": "code",
   "execution_count": 112,
   "metadata": {
    "ExecuteTime": {
     "end_time": "2021-05-29T09:59:27.584000Z",
     "start_time": "2021-05-29T09:59:27.580266Z"
    }
   },
   "outputs": [
    {
     "data": {
      "text/plain": [
       "1310.0"
      ]
     },
     "execution_count": 112,
     "metadata": {},
     "output_type": "execute_result"
    }
   ],
   "source": [
    "df.pledged.median()"
   ]
  },
  {
   "cell_type": "code",
   "execution_count": 113,
   "metadata": {
    "ExecuteTime": {
     "end_time": "2021-05-29T09:59:27.774412Z",
     "start_time": "2021-05-29T09:59:27.751296Z"
    }
   },
   "outputs": [
    {
     "data": {
      "text/plain": [
       "3500.0"
      ]
     },
     "execution_count": 113,
     "metadata": {},
     "output_type": "execute_result"
    }
   ],
   "source": [
    "df[df['status'] == 'successful'].pledged.median()"
   ]
  },
  {
   "cell_type": "code",
   "execution_count": 114,
   "metadata": {
    "ExecuteTime": {
     "end_time": "2021-05-29T09:59:27.952447Z",
     "start_time": "2021-05-29T09:59:27.932312Z"
    }
   },
   "outputs": [],
   "source": [
    "df3 = df2.groupby(['month', 'status'])['status'].count().unstack()#.sort_values(by='month')\n",
    "#df3"
   ]
  },
  {
   "cell_type": "code",
   "execution_count": 115,
   "metadata": {
    "ExecuteTime": {
     "end_time": "2021-05-29T09:59:28.384472Z",
     "start_time": "2021-05-29T09:59:28.382317Z"
    }
   },
   "outputs": [],
   "source": [
    "#df3 = df2.groupby(['month','status']).size().reset_index(name='count')\n",
    "#df3"
   ]
  },
  {
   "cell_type": "code",
   "execution_count": 116,
   "metadata": {
    "ExecuteTime": {
     "end_time": "2021-05-29T09:59:28.576095Z",
     "start_time": "2021-05-29T09:59:28.552174Z"
    }
   },
   "outputs": [
    {
     "data": {
      "text/html": [
       "<div>\n",
       "<style scoped>\n",
       "    .dataframe tbody tr th:only-of-type {\n",
       "        vertical-align: middle;\n",
       "    }\n",
       "\n",
       "    .dataframe tbody tr th {\n",
       "        vertical-align: top;\n",
       "    }\n",
       "\n",
       "    .dataframe thead th {\n",
       "        text-align: right;\n",
       "    }\n",
       "</style>\n",
       "<table border=\"1\" class=\"dataframe\">\n",
       "  <thead>\n",
       "    <tr style=\"text-align: right;\">\n",
       "      <th>status</th>\n",
       "      <th>canceled</th>\n",
       "      <th>failed</th>\n",
       "      <th>live</th>\n",
       "      <th>successful</th>\n",
       "      <th>suspended</th>\n",
       "      <th>success_rate</th>\n",
       "    </tr>\n",
       "    <tr>\n",
       "      <th>month</th>\n",
       "      <th></th>\n",
       "      <th></th>\n",
       "      <th></th>\n",
       "      <th></th>\n",
       "      <th></th>\n",
       "      <th></th>\n",
       "    </tr>\n",
       "  </thead>\n",
       "  <tbody>\n",
       "    <tr>\n",
       "      <th>Apr</th>\n",
       "      <td>NaN</td>\n",
       "      <td>2197.0</td>\n",
       "      <td>NaN</td>\n",
       "      <td>2929.0</td>\n",
       "      <td>NaN</td>\n",
       "      <td>57.140070</td>\n",
       "    </tr>\n",
       "    <tr>\n",
       "      <th>Aug</th>\n",
       "      <td>NaN</td>\n",
       "      <td>1378.0</td>\n",
       "      <td>1.0</td>\n",
       "      <td>1666.0</td>\n",
       "      <td>NaN</td>\n",
       "      <td>54.730618</td>\n",
       "    </tr>\n",
       "    <tr>\n",
       "      <th>Dec</th>\n",
       "      <td>NaN</td>\n",
       "      <td>1574.0</td>\n",
       "      <td>NaN</td>\n",
       "      <td>1725.0</td>\n",
       "      <td>NaN</td>\n",
       "      <td>52.288572</td>\n",
       "    </tr>\n",
       "    <tr>\n",
       "      <th>Feb</th>\n",
       "      <td>NaN</td>\n",
       "      <td>1469.0</td>\n",
       "      <td>NaN</td>\n",
       "      <td>1764.0</td>\n",
       "      <td>NaN</td>\n",
       "      <td>54.562326</td>\n",
       "    </tr>\n",
       "    <tr>\n",
       "      <th>Jan</th>\n",
       "      <td>NaN</td>\n",
       "      <td>1446.0</td>\n",
       "      <td>NaN</td>\n",
       "      <td>1659.0</td>\n",
       "      <td>NaN</td>\n",
       "      <td>53.429952</td>\n",
       "    </tr>\n",
       "    <tr>\n",
       "      <th>Jul</th>\n",
       "      <td>5.0</td>\n",
       "      <td>1336.0</td>\n",
       "      <td>712.0</td>\n",
       "      <td>1511.0</td>\n",
       "      <td>NaN</td>\n",
       "      <td>53.073411</td>\n",
       "    </tr>\n",
       "    <tr>\n",
       "      <th>Jun</th>\n",
       "      <td>41.0</td>\n",
       "      <td>1312.0</td>\n",
       "      <td>3216.0</td>\n",
       "      <td>1536.0</td>\n",
       "      <td>4.0</td>\n",
       "      <td>53.932584</td>\n",
       "    </tr>\n",
       "    <tr>\n",
       "      <th>Mar</th>\n",
       "      <td>NaN</td>\n",
       "      <td>1967.0</td>\n",
       "      <td>NaN</td>\n",
       "      <td>2592.0</td>\n",
       "      <td>NaN</td>\n",
       "      <td>56.854573</td>\n",
       "    </tr>\n",
       "    <tr>\n",
       "      <th>May</th>\n",
       "      <td>13.0</td>\n",
       "      <td>2664.0</td>\n",
       "      <td>NaN</td>\n",
       "      <td>3044.0</td>\n",
       "      <td>NaN</td>\n",
       "      <td>53.328662</td>\n",
       "    </tr>\n",
       "    <tr>\n",
       "      <th>Nov</th>\n",
       "      <td>NaN</td>\n",
       "      <td>1123.0</td>\n",
       "      <td>NaN</td>\n",
       "      <td>1517.0</td>\n",
       "      <td>NaN</td>\n",
       "      <td>57.462121</td>\n",
       "    </tr>\n",
       "    <tr>\n",
       "      <th>Oct</th>\n",
       "      <td>NaN</td>\n",
       "      <td>1271.0</td>\n",
       "      <td>NaN</td>\n",
       "      <td>1530.0</td>\n",
       "      <td>NaN</td>\n",
       "      <td>54.623349</td>\n",
       "    </tr>\n",
       "    <tr>\n",
       "      <th>Sep</th>\n",
       "      <td>NaN</td>\n",
       "      <td>1259.0</td>\n",
       "      <td>NaN</td>\n",
       "      <td>1496.0</td>\n",
       "      <td>NaN</td>\n",
       "      <td>54.301270</td>\n",
       "    </tr>\n",
       "  </tbody>\n",
       "</table>\n",
       "</div>"
      ],
      "text/plain": [
       "status  canceled  failed    live  successful  suspended  success_rate\n",
       "month                                                                \n",
       "Apr          NaN  2197.0     NaN      2929.0        NaN     57.140070\n",
       "Aug          NaN  1378.0     1.0      1666.0        NaN     54.730618\n",
       "Dec          NaN  1574.0     NaN      1725.0        NaN     52.288572\n",
       "Feb          NaN  1469.0     NaN      1764.0        NaN     54.562326\n",
       "Jan          NaN  1446.0     NaN      1659.0        NaN     53.429952\n",
       "Jul          5.0  1336.0   712.0      1511.0        NaN     53.073411\n",
       "Jun         41.0  1312.0  3216.0      1536.0        4.0     53.932584\n",
       "Mar          NaN  1967.0     NaN      2592.0        NaN     56.854573\n",
       "May         13.0  2664.0     NaN      3044.0        NaN     53.328662\n",
       "Nov          NaN  1123.0     NaN      1517.0        NaN     57.462121\n",
       "Oct          NaN  1271.0     NaN      1530.0        NaN     54.623349\n",
       "Sep          NaN  1259.0     NaN      1496.0        NaN     54.301270"
      ]
     },
     "execution_count": 116,
     "metadata": {},
     "output_type": "execute_result"
    }
   ],
   "source": [
    "for i in range(0,12):\n",
    "    df3['success_rate'] = df3['successful']/(df3['failed'] + df3['successful']) * 100\n",
    "\n",
    "#df3=df3.sort_values(by='month', ascending=True)\n",
    "df3"
   ]
  },
  {
   "cell_type": "code",
   "execution_count": 552,
   "metadata": {},
   "outputs": [],
   "source": [
    "#from sorted_months_weekdays import Month_Sorted_Month, Weekday_Sorted_Week\n",
    "\n",
    "#df3['month'] = Month_Sorted_Month(df3.index)\n",
    "#df3"
   ]
  },
  {
   "cell_type": "code",
   "execution_count": 553,
   "metadata": {},
   "outputs": [],
   "source": [
    "total = []\n",
    "success_rate = []\n",
    "\n",
    "\n",
    "for i in range(0,12):\n",
    "    total.append(df3.failed[i] + df3.successful[i])\n",
    "    success_rate.append((df3.successful[i]/total[i])*100) \n",
    "    \n",
    "#total"
   ]
  },
  {
   "cell_type": "code",
   "execution_count": 554,
   "metadata": {},
   "outputs": [],
   "source": [
    "month_names = ['Apr', 'Aug', 'Dec', 'Feb', 'Jan', 'Jul', 'Jun', 'Mar', 'May', 'Nov', 'Oct', 'Sep']\n",
    "#success_rate\n",
    "\n",
    "#lis = zip(month_names, success_rate)"
   ]
  },
  {
   "cell_type": "code",
   "execution_count": 555,
   "metadata": {},
   "outputs": [
    {
     "data": {
      "image/png": "[encoded data removed]",
      "text/plain": [
       "<Figure size 432x288 with 1 Axes>"
      ]
     },
     "metadata": {},
     "output_type": "display_data"
    }
   ],
   "source": [
    "plt.bar(month_names, success_rate)\n",
    "plt.title(\"Success Rates by Month\")\n",
    "plt.ylabel(\"Success Rates\")\n",
    "plt.xlabel(\"Months\")\n",
    "plt.gca().yaxis.set_major_formatter(mtick.PercentFormatter())\n",
    "plt.savefig(\"Success Rates by Month.png\", dpi=100, bbox_inches='tight')\n",
    "plt.show()\n"
   ]
  },
  {
   "cell_type": "code",
   "execution_count": 117,
   "metadata": {
    "ExecuteTime": {
     "end_time": "2021-05-29T09:59:35.937247Z",
     "start_time": "2021-05-29T09:59:35.910038Z"
    }
   },
   "outputs": [
    {
     "data": {
      "text/html": [
       "<div>\n",
       "<style scoped>\n",
       "    .dataframe tbody tr th:only-of-type {\n",
       "        vertical-align: middle;\n",
       "    }\n",
       "\n",
       "    .dataframe tbody tr th {\n",
       "        vertical-align: top;\n",
       "    }\n",
       "\n",
       "    .dataframe thead th {\n",
       "        text-align: right;\n",
       "    }\n",
       "</style>\n",
       "<table border=\"1\" class=\"dataframe\">\n",
       "  <thead>\n",
       "    <tr style=\"text-align: right;\">\n",
       "      <th>status</th>\n",
       "      <th>canceled</th>\n",
       "      <th>failed</th>\n",
       "      <th>live</th>\n",
       "      <th>successful</th>\n",
       "      <th>suspended</th>\n",
       "    </tr>\n",
       "    <tr>\n",
       "      <th>Day</th>\n",
       "      <th></th>\n",
       "      <th></th>\n",
       "      <th></th>\n",
       "      <th></th>\n",
       "      <th></th>\n",
       "    </tr>\n",
       "  </thead>\n",
       "  <tbody>\n",
       "    <tr>\n",
       "      <th>Tue</th>\n",
       "      <td>6.0</td>\n",
       "      <td>2397.0</td>\n",
       "      <td>403.0</td>\n",
       "      <td>2770.0</td>\n",
       "      <td>NaN</td>\n",
       "    </tr>\n",
       "    <tr>\n",
       "      <th>Wed</th>\n",
       "      <td>4.0</td>\n",
       "      <td>2425.0</td>\n",
       "      <td>406.0</td>\n",
       "      <td>2958.0</td>\n",
       "      <td>1.0</td>\n",
       "    </tr>\n",
       "    <tr>\n",
       "      <th>Thu</th>\n",
       "      <td>8.0</td>\n",
       "      <td>2650.0</td>\n",
       "      <td>529.0</td>\n",
       "      <td>3316.0</td>\n",
       "      <td>NaN</td>\n",
       "    </tr>\n",
       "    <tr>\n",
       "      <th>Sun</th>\n",
       "      <td>10.0</td>\n",
       "      <td>2854.0</td>\n",
       "      <td>724.0</td>\n",
       "      <td>3409.0</td>\n",
       "      <td>NaN</td>\n",
       "    </tr>\n",
       "    <tr>\n",
       "      <th>Fri</th>\n",
       "      <td>11.0</td>\n",
       "      <td>2913.0</td>\n",
       "      <td>598.0</td>\n",
       "      <td>3412.0</td>\n",
       "      <td>2.0</td>\n",
       "    </tr>\n",
       "    <tr>\n",
       "      <th>Mon</th>\n",
       "      <td>8.0</td>\n",
       "      <td>2714.0</td>\n",
       "      <td>551.0</td>\n",
       "      <td>3420.0</td>\n",
       "      <td>1.0</td>\n",
       "    </tr>\n",
       "    <tr>\n",
       "      <th>Sat</th>\n",
       "      <td>12.0</td>\n",
       "      <td>3043.0</td>\n",
       "      <td>718.0</td>\n",
       "      <td>3684.0</td>\n",
       "      <td>NaN</td>\n",
       "    </tr>\n",
       "  </tbody>\n",
       "</table>\n",
       "</div>"
      ],
      "text/plain": [
       "status  canceled  failed   live  successful  suspended\n",
       "Day                                                   \n",
       "Tue          6.0  2397.0  403.0      2770.0        NaN\n",
       "Wed          4.0  2425.0  406.0      2958.0        1.0\n",
       "Thu          8.0  2650.0  529.0      3316.0        NaN\n",
       "Sun         10.0  2854.0  724.0      3409.0        NaN\n",
       "Fri         11.0  2913.0  598.0      3412.0        2.0\n",
       "Mon          8.0  2714.0  551.0      3420.0        1.0\n",
       "Sat         12.0  3043.0  718.0      3684.0        NaN"
      ]
     },
     "execution_count": 117,
     "metadata": {},
     "output_type": "execute_result"
    }
   ],
   "source": [
    "df_d = df2.groupby(['Day', 'status'])['status'].count().unstack().sort_values(by='successful')\n",
    "df_d"
   ]
  },
  {
   "cell_type": "code",
   "execution_count": null,
   "metadata": {},
   "outputs": [],
   "source": [
    "for i in range(0,7):\n",
    "    df_d['success_rate'] = df_d['successful']/(df_d['failed'] + df_d['successful']) * 100\n",
    "\n",
    "df_d"
   ]
  },
  {
   "cell_type": "code",
   "execution_count": null,
   "metadata": {},
   "outputs": [],
   "source": [
    "Days = ['Tue', 'Wed', 'Thu', 'Sun', 'Fri', 'Mon', 'Sat']\n",
    "\n",
    "plt.bar(Days, df_d.success_rate)\n",
    "plt.title(\"Success Rates by Days\")\n",
    "plt.ylabel(\"Success Rates\")\n",
    "plt.xlabel(\"Days\")\n",
    "plt.gca().yaxis.set_major_formatter(mtick.PercentFormatter())\n",
    "plt.savefig(\"Success Rates by Days.png\", dpi=100, bbox_inches='tight')\n",
    "plt.show()"
   ]
  },
  {
   "cell_type": "code",
   "execution_count": 557,
   "metadata": {},
   "outputs": [],
   "source": [
    "df_h = df2.groupby(['hour', 'status'])['status'].count().unstack().sort_values(by='hour')\n",
    "#df_h"
   ]
  },
  {
   "cell_type": "code",
   "execution_count": 558,
   "metadata": {},
   "outputs": [
    {
     "data": {
      "text/html": [
       "<div>\n",
       "<style scoped>\n",
       "    .dataframe tbody tr th:only-of-type {\n",
       "        vertical-align: middle;\n",
       "    }\n",
       "\n",
       "    .dataframe tbody tr th {\n",
       "        vertical-align: top;\n",
       "    }\n",
       "\n",
       "    .dataframe thead th {\n",
       "        text-align: right;\n",
       "    }\n",
       "</style>\n",
       "<table border=\"1\" class=\"dataframe\">\n",
       "  <thead>\n",
       "    <tr style=\"text-align: right;\">\n",
       "      <th>status</th>\n",
       "      <th>canceled</th>\n",
       "      <th>failed</th>\n",
       "      <th>live</th>\n",
       "      <th>successful</th>\n",
       "      <th>suspended</th>\n",
       "      <th>success_rate</th>\n",
       "    </tr>\n",
       "    <tr>\n",
       "      <th>hour</th>\n",
       "      <th></th>\n",
       "      <th></th>\n",
       "      <th></th>\n",
       "      <th></th>\n",
       "      <th></th>\n",
       "      <th></th>\n",
       "    </tr>\n",
       "  </thead>\n",
       "  <tbody>\n",
       "    <tr>\n",
       "      <th>0</th>\n",
       "      <td>5.0</td>\n",
       "      <td>964.0</td>\n",
       "      <td>229.0</td>\n",
       "      <td>1137.0</td>\n",
       "      <td>NaN</td>\n",
       "      <td>54.117087</td>\n",
       "    </tr>\n",
       "    <tr>\n",
       "      <th>1</th>\n",
       "      <td>4.0</td>\n",
       "      <td>1029.0</td>\n",
       "      <td>170.0</td>\n",
       "      <td>1067.0</td>\n",
       "      <td>NaN</td>\n",
       "      <td>50.906489</td>\n",
       "    </tr>\n",
       "    <tr>\n",
       "      <th>2</th>\n",
       "      <td>2.0</td>\n",
       "      <td>919.0</td>\n",
       "      <td>191.0</td>\n",
       "      <td>1053.0</td>\n",
       "      <td>NaN</td>\n",
       "      <td>53.397566</td>\n",
       "    </tr>\n",
       "    <tr>\n",
       "      <th>3</th>\n",
       "      <td>7.0</td>\n",
       "      <td>1519.0</td>\n",
       "      <td>335.0</td>\n",
       "      <td>2523.0</td>\n",
       "      <td>NaN</td>\n",
       "      <td>62.419594</td>\n",
       "    </tr>\n",
       "    <tr>\n",
       "      <th>4</th>\n",
       "      <td>2.0</td>\n",
       "      <td>1368.0</td>\n",
       "      <td>196.0</td>\n",
       "      <td>2197.0</td>\n",
       "      <td>NaN</td>\n",
       "      <td>61.626928</td>\n",
       "    </tr>\n",
       "    <tr>\n",
       "      <th>5</th>\n",
       "      <td>NaN</td>\n",
       "      <td>869.0</td>\n",
       "      <td>108.0</td>\n",
       "      <td>1121.0</td>\n",
       "      <td>NaN</td>\n",
       "      <td>56.331658</td>\n",
       "    </tr>\n",
       "    <tr>\n",
       "      <th>6</th>\n",
       "      <td>3.0</td>\n",
       "      <td>700.0</td>\n",
       "      <td>117.0</td>\n",
       "      <td>999.0</td>\n",
       "      <td>NaN</td>\n",
       "      <td>58.799294</td>\n",
       "    </tr>\n",
       "    <tr>\n",
       "      <th>7</th>\n",
       "      <td>2.0</td>\n",
       "      <td>507.0</td>\n",
       "      <td>56.0</td>\n",
       "      <td>698.0</td>\n",
       "      <td>NaN</td>\n",
       "      <td>57.925311</td>\n",
       "    </tr>\n",
       "    <tr>\n",
       "      <th>8</th>\n",
       "      <td>1.0</td>\n",
       "      <td>256.0</td>\n",
       "      <td>18.0</td>\n",
       "      <td>281.0</td>\n",
       "      <td>NaN</td>\n",
       "      <td>52.327747</td>\n",
       "    </tr>\n",
       "    <tr>\n",
       "      <th>9</th>\n",
       "      <td>NaN</td>\n",
       "      <td>186.0</td>\n",
       "      <td>24.0</td>\n",
       "      <td>180.0</td>\n",
       "      <td>NaN</td>\n",
       "      <td>49.180328</td>\n",
       "    </tr>\n",
       "    <tr>\n",
       "      <th>10</th>\n",
       "      <td>NaN</td>\n",
       "      <td>181.0</td>\n",
       "      <td>24.0</td>\n",
       "      <td>144.0</td>\n",
       "      <td>NaN</td>\n",
       "      <td>44.307692</td>\n",
       "    </tr>\n",
       "    <tr>\n",
       "      <th>11</th>\n",
       "      <td>1.0</td>\n",
       "      <td>194.0</td>\n",
       "      <td>42.0</td>\n",
       "      <td>174.0</td>\n",
       "      <td>NaN</td>\n",
       "      <td>47.282609</td>\n",
       "    </tr>\n",
       "    <tr>\n",
       "      <th>12</th>\n",
       "      <td>1.0</td>\n",
       "      <td>275.0</td>\n",
       "      <td>91.0</td>\n",
       "      <td>283.0</td>\n",
       "      <td>NaN</td>\n",
       "      <td>50.716846</td>\n",
       "    </tr>\n",
       "    <tr>\n",
       "      <th>13</th>\n",
       "      <td>NaN</td>\n",
       "      <td>434.0</td>\n",
       "      <td>123.0</td>\n",
       "      <td>456.0</td>\n",
       "      <td>1.0</td>\n",
       "      <td>51.235955</td>\n",
       "    </tr>\n",
       "    <tr>\n",
       "      <th>14</th>\n",
       "      <td>2.0</td>\n",
       "      <td>570.0</td>\n",
       "      <td>122.0</td>\n",
       "      <td>658.0</td>\n",
       "      <td>NaN</td>\n",
       "      <td>53.583062</td>\n",
       "    </tr>\n",
       "    <tr>\n",
       "      <th>15</th>\n",
       "      <td>2.0</td>\n",
       "      <td>667.0</td>\n",
       "      <td>166.0</td>\n",
       "      <td>870.0</td>\n",
       "      <td>NaN</td>\n",
       "      <td>56.603774</td>\n",
       "    </tr>\n",
       "    <tr>\n",
       "      <th>16</th>\n",
       "      <td>2.0</td>\n",
       "      <td>989.0</td>\n",
       "      <td>220.0</td>\n",
       "      <td>1242.0</td>\n",
       "      <td>NaN</td>\n",
       "      <td>55.670103</td>\n",
       "    </tr>\n",
       "    <tr>\n",
       "      <th>17</th>\n",
       "      <td>3.0</td>\n",
       "      <td>952.0</td>\n",
       "      <td>199.0</td>\n",
       "      <td>1191.0</td>\n",
       "      <td>NaN</td>\n",
       "      <td>55.576295</td>\n",
       "    </tr>\n",
       "    <tr>\n",
       "      <th>18</th>\n",
       "      <td>5.0</td>\n",
       "      <td>969.0</td>\n",
       "      <td>217.0</td>\n",
       "      <td>1033.0</td>\n",
       "      <td>NaN</td>\n",
       "      <td>51.598402</td>\n",
       "    </tr>\n",
       "    <tr>\n",
       "      <th>19</th>\n",
       "      <td>6.0</td>\n",
       "      <td>1127.0</td>\n",
       "      <td>234.0</td>\n",
       "      <td>1142.0</td>\n",
       "      <td>1.0</td>\n",
       "      <td>50.330542</td>\n",
       "    </tr>\n",
       "    <tr>\n",
       "      <th>20</th>\n",
       "      <td>2.0</td>\n",
       "      <td>1129.0</td>\n",
       "      <td>233.0</td>\n",
       "      <td>1106.0</td>\n",
       "      <td>NaN</td>\n",
       "      <td>49.485459</td>\n",
       "    </tr>\n",
       "    <tr>\n",
       "      <th>21</th>\n",
       "      <td>3.0</td>\n",
       "      <td>1094.0</td>\n",
       "      <td>259.0</td>\n",
       "      <td>1178.0</td>\n",
       "      <td>NaN</td>\n",
       "      <td>51.848592</td>\n",
       "    </tr>\n",
       "    <tr>\n",
       "      <th>22</th>\n",
       "      <td>4.0</td>\n",
       "      <td>1102.0</td>\n",
       "      <td>315.0</td>\n",
       "      <td>1167.0</td>\n",
       "      <td>2.0</td>\n",
       "      <td>51.432349</td>\n",
       "    </tr>\n",
       "    <tr>\n",
       "      <th>23</th>\n",
       "      <td>2.0</td>\n",
       "      <td>996.0</td>\n",
       "      <td>240.0</td>\n",
       "      <td>1069.0</td>\n",
       "      <td>NaN</td>\n",
       "      <td>51.767554</td>\n",
       "    </tr>\n",
       "  </tbody>\n",
       "</table>\n",
       "</div>"
      ],
      "text/plain": [
       "status  canceled  failed   live  successful  suspended  success_rate\n",
       "hour                                                                \n",
       "0            5.0   964.0  229.0      1137.0        NaN     54.117087\n",
       "1            4.0  1029.0  170.0      1067.0        NaN     50.906489\n",
       "2            2.0   919.0  191.0      1053.0        NaN     53.397566\n",
       "3            7.0  1519.0  335.0      2523.0        NaN     62.419594\n",
       "4            2.0  1368.0  196.0      2197.0        NaN     61.626928\n",
       "5            NaN   869.0  108.0      1121.0        NaN     56.331658\n",
       "6            3.0   700.0  117.0       999.0        NaN     58.799294\n",
       "7            2.0   507.0   56.0       698.0        NaN     57.925311\n",
       "8            1.0   256.0   18.0       281.0        NaN     52.327747\n",
       "9            NaN   186.0   24.0       180.0        NaN     49.180328\n",
       "10           NaN   181.0   24.0       144.0        NaN     44.307692\n",
       "11           1.0   194.0   42.0       174.0        NaN     47.282609\n",
       "12           1.0   275.0   91.0       283.0        NaN     50.716846\n",
       "13           NaN   434.0  123.0       456.0        1.0     51.235955\n",
       "14           2.0   570.0  122.0       658.0        NaN     53.583062\n",
       "15           2.0   667.0  166.0       870.0        NaN     56.603774\n",
       "16           2.0   989.0  220.0      1242.0        NaN     55.670103\n",
       "17           3.0   952.0  199.0      1191.0        NaN     55.576295\n",
       "18           5.0   969.0  217.0      1033.0        NaN     51.598402\n",
       "19           6.0  1127.0  234.0      1142.0        1.0     50.330542\n",
       "20           2.0  1129.0  233.0      1106.0        NaN     49.485459\n",
       "21           3.0  1094.0  259.0      1178.0        NaN     51.848592\n",
       "22           4.0  1102.0  315.0      1167.0        2.0     51.432349\n",
       "23           2.0   996.0  240.0      1069.0        NaN     51.767554"
      ]
     },
     "execution_count": 558,
     "metadata": {},
     "output_type": "execute_result"
    }
   ],
   "source": [
    "for i in range(0,24):\n",
    "    df_h['success_rate'] = df_h['successful']/(df_h['failed'] + df_h['successful']) * 100\n",
    "    \n",
    "df_h"
   ]
  },
  {
   "cell_type": "code",
   "execution_count": 559,
   "metadata": {},
   "outputs": [],
   "source": [
    "loc = range(len(df_h.success_rate))\n",
    "labels1 = df_h.index"
   ]
  },
  {
   "cell_type": "code",
   "execution_count": 560,
   "metadata": {},
   "outputs": [
    {
     "data": {
      "image/png": "[encoded data removed]",
      "text/plain": [
       "<Figure size 432x288 with 1 Axes>"
      ]
     },
     "metadata": {},
     "output_type": "display_data"
    }
   ],
   "source": [
    "plt.bar(df_h.index, df_h.success_rate)\n",
    "plt.title(\"Success Rates by Hour\")\n",
    "plt.ylabel(\"Success Rates\")\n",
    "plt.xlabel(\"Hours\")\n",
    "plt.xticks(loc, labels1)\n",
    "plt.gca().yaxis.set_major_formatter(mtick.PercentFormatter())\n",
    "plt.savefig(\"Success Rates by Hour.png\", dpi=100, bbox_inches='tight')\n",
    "plt.show()"
   ]
  },
  {
   "cell_type": "code",
   "execution_count": 475,
   "metadata": {},
   "outputs": [
    {
     "data": {
      "image/png": "[encoded data removed]",
      "text/plain": [
       "<Figure size 1008x720 with 1 Axes>"
      ]
     },
     "metadata": {},
     "output_type": "display_data"
    }
   ],
   "source": [
    "plt.figure(figsize=(14, 10))\n",
    "#sns.set(style=\"darkgrid\")\n",
    "splot=sns.barplot(x=df_h.index, y=df_h['success_rate'], data=df_h)\n",
    "\n",
    "for p in splot.patches:\n",
    "    splot.annotate(format(p.get_height(), '.1f'), \n",
    "                   (p.get_x() + p.get_width() / 2., p.get_height()), \n",
    "                   ha = 'center', va = 'center', \n",
    "                   xytext = (0, 9), \n",
    "                   textcoords = 'offset points')\n",
    "plt.title(\"Success Rates by Hour\", fontsize=16)\n",
    "plt.ylabel(\"Success Rates\", size=14)\n",
    "plt.xlabel(\"Hours\", size=14)\n",
    "plt.xticks(loc, labels1)\n",
    "\n",
    "plt.gca().yaxis.set_major_formatter(mtick.PercentFormatter())\n",
    "plt.savefig(\"Success Rates by Hour.png\", dpi=100, bbox_inches='tight')\n",
    "plt.show()\n"
   ]
  },
  {
   "cell_type": "code",
   "execution_count": 146,
   "metadata": {},
   "outputs": [],
   "source": [
    "#df2.groupby(['duration'])['is_successful'].count()#.sort_values(ascending=False)"
   ]
  },
  {
   "cell_type": "code",
   "execution_count": 62,
   "metadata": {},
   "outputs": [
    {
     "name": "stdout",
     "output_type": "stream",
     "text": [
      "Percent Success:  54.73 %\n",
      "Percent Failure:  45.27 %\n"
     ]
    }
   ],
   "source": [
    "counts_status = df.groupby(\"status\")[\"status\"].count() \n",
    "\n",
    "total = counts_status[\"successful\"] + counts_status[\"failed\"] \n",
    "print(\"Percent Success: \", round(counts_status[\"successful\"]/ total * 100, 2) , \"%\")\n",
    "print(\"Percent Failure: \", round(counts_status[\"failed\"]/ total * 100, 2), \"%\")"
   ]
  },
  {
   "cell_type": "code",
   "execution_count": 63,
   "metadata": {},
   "outputs": [
    {
     "data": {
      "text/plain": [
       "status\n",
       "canceled         59\n",
       "failed        18996\n",
       "live           3929\n",
       "successful    22969\n",
       "suspended         4\n",
       "Name: status, dtype: int64"
      ]
     },
     "execution_count": 63,
     "metadata": {},
     "output_type": "execute_result"
    }
   ],
   "source": [
    "counts_status"
   ]
  },
  {
   "cell_type": "code",
   "execution_count": 443,
   "metadata": {},
   "outputs": [
    {
     "data": {
      "image/png": "[encoded data removed]",
      "text/plain": [
       "<Figure size 720x576 with 1 Axes>"
      ]
     },
     "metadata": {},
     "output_type": "display_data"
    }
   ],
   "source": [
    "counts_category = df.groupby(\"category\")[\"category\"].count().sort_values()\n",
    "counts_category.plot.barh(figsize = (10,8), color='purple')\n",
    "plt.xlabel(\"Number of Kickstarters\")\n",
    "plt.ylabel(\"Kickstarter Campaign Main Categories\")\n",
    "plt.title(\"Total amount of Projects by Category\")\n",
    "plt.savefig(\"Total amount of Projects by Category.png\", dpi=100, bbox_inches='tight')\n",
    "plt.show()"
   ]
  },
  {
   "cell_type": "code",
   "execution_count": 122,
   "metadata": {},
   "outputs": [],
   "source": [
    "category_total = {}\n",
    "category_success = {}\n",
    "listt = [category_total, category_success]\n",
    "\n",
    "for item in listt:\n",
    "    for key in df['category'].unique():\n",
    "        item[key] = [0, 0]\n",
    "        \n",
    "\n",
    "for index, row in df.iterrows():\n",
    "    category = row['category']\n",
    "    category_total[category][0] += 1\n",
    "    if row['status'] == 'successful':\n",
    "        category_success[category][0] += 1\n",
    "        \n",
    "\n",
    "for item in listt:\n",
    "    #print(item)\n",
    "    for key in item:\n",
    "        #print(key)\n",
    "        item[key] = item[key][0]\n",
    "        #print(item[key])\n",
    "\n"
   ]
  },
  {
   "cell_type": "code",
   "execution_count": 124,
   "metadata": {
    "scrolled": true
   },
   "outputs": [
    {
     "name": "stdout",
     "output_type": "stream",
     "text": [
      "Values for pledged USD based on category:\n",
      "--------------------------------------------------------------------------------\n",
      "Film & Video    Success rate:\t49.398% \t Total Projects:\t498\n",
      "Games           Success rate:\t36.536% \t Total Projects:\t1738\n",
      "Fashion         Success rate:\t29.489% \t Total Projects:\t1136\n",
      "Music           Success rate:\t62.238% \t Total Projects:\t10913\n",
      "Art             Success rate:\t52.756% \t Total Projects:\t3992\n",
      "Technology      Success rate:\t35.635% \t Total Projects:\t811\n",
      "Dance           Success rate:\t69.251% \t Total Projects:\t761\n",
      "Publishing      Success rate:\t35.031% \t Total Projects:\t4770\n",
      "Theater         Success rate:\t65.891% \t Total Projects:\t2492\n",
      "Comics          Success rate:\t48.507% \t Total Projects:\t1072\n",
      "Design          Success rate:\t41.233% \t Total Projects:\t1768\n",
      "Photography     Success rate:\t42.602% \t Total Projects:\t1514\n",
      "Food            Success rate:\t45.518% \t Total Projects:\t1439\n",
      "Film &amp; Video Success rate:\t47.322% \t Total Projects:\t13053\n"
     ]
    }
   ],
   "source": [
    "print(\"Values for pledged USD based on category:\\n\" + '-' * 80)\n",
    "for value in category_total:\n",
    "    print(\"{:15s}\".format(value),\"Success rate:\\t%0.3f%% \\t Total Projects:\\t%.0f\" % \\\n",
    "          ((category_success[value]/category_total[value])*100,category_total[value]))"
   ]
  },
  {
   "cell_type": "code",
   "execution_count": 442,
   "metadata": {},
   "outputs": [
    {
     "data": {
      "image/png": "[encoded data removed]",
      "text/plain": [
       "<Figure size 1008x720 with 1 Axes>"
      ]
     },
     "metadata": {},
     "output_type": "display_data"
    },
    {
     "data": {
      "image/png": "[encoded data removed]",
      "text/plain": [
       "<Figure size 432x288 with 1 Axes>"
      ]
     },
     "metadata": {},
     "output_type": "display_data"
    },
    {
     "data": {
      "image/png": "[encoded data removed]",
      "text/plain": [
       "<Figure size 432x288 with 1 Axes>"
      ]
     },
     "metadata": {},
     "output_type": "display_data"
    }
   ],
   "source": [
    "x  = df['category'].unique()\n",
    "y1 = [] \n",
    "y2 = [] \n",
    "y3 = [] \n",
    "\n",
    "for e in x:\n",
    "    y1.append((category_success[e]/category_total[e])*100)\n",
    "    y2.append(category_total[e])\n",
    "    y3.append(category_success[e])\n",
    " \n",
    "plt.figure(figsize=(14, 10))\n",
    "sns.set(style=\"darkgrid\")\n",
    "splot=sns.barplot(x=df['category'].unique(), y=y1)\n",
    "\n",
    "for p in splot.patches:\n",
    "    splot.annotate(format(p.get_height(), '.1f'), \n",
    "                   (p.get_x() + p.get_width() / 2., p.get_height()), \n",
    "                   ha = 'center', va = 'center', \n",
    "                   xytext = (0, 9), \n",
    "                   textcoords = 'offset points')\n",
    "#plt.barh(x, y1, color='moccasin')\n",
    "plt.suptitle(\"Success Rate per Category\", fontsize=20)\n",
    "plt.ylabel(\"Success Rate\")\n",
    "plt.xlabel(\"Category\")\n",
    "plt.gca().yaxis.set_major_formatter(mtick.PercentFormatter())\n",
    "plt.savefig(\"Success Rate per Category.png\", dpi=100, bbox_inches='tight')\n",
    "plt.show()\n",
    "\n",
    "\n",
    "plt.barh(x, y2, color='orchid')\n",
    "plt.suptitle(\"Total Projects per Category\")\n",
    "plt.ylabel(\"Category\")\n",
    "plt.xlabel(\"Total Number of Projects\")\n",
    "plt.savefig(\"Total Projects per Category.png\", dpi=100, bbox_inches='tight')\n",
    "plt.show()\n",
    "\n",
    "plt.barh(x, y3, color='moccasin')\n",
    "plt.suptitle(\"Successful Pledged per Category\")\n",
    "plt.ylabel(\"Category\")\n",
    "plt.xlabel(\"Number of Projects -- Successful\")\n",
    "plt.savefig(\"Successful Pledged per Category.png\", dpi=100, bbox_inches='tight')\n",
    "plt.show()\n",
    "\n"
   ]
  },
  {
   "cell_type": "code",
   "execution_count": 332,
   "metadata": {},
   "outputs": [
    {
     "data": {
      "image/png": "[encoded data removed]",
      "text/plain": [
       "<Figure size 1008x504 with 1 Axes>"
      ]
     },
     "metadata": {},
     "output_type": "display_data"
    }
   ],
   "source": [
    "state_df = df[df['status'].isin(['failed', 'successful', 'canceled', 'suspended'])]\n",
    "state_df['status'].replace({'failed': 'not_successful', 'canceled': 'not_successful',\n",
    "                            'suspended': 'not_successful'}, inplace=True)\n",
    "state_df['status'].replace({'successful': 1, 'not_successful': 0}, inplace=True)\n",
    "\n",
    "\n",
    "dt = []\n",
    "for value in state_df['category'].unique():\n",
    "    dset = state_df[state_df['category'] == value]\n",
    "    success = len(dset[dset['status'] == 1])\n",
    "    failed = len(dset[dset['status'] == 0])\n",
    "    \n",
    "    dt.append({\n",
    "        'Main_Category': value,\n",
    "        'Count': failed,\n",
    "        'Pct_Success': success / (success + failed),\n",
    "        'Pct_Failed': failed / (success + failed)\n",
    "    })\n",
    "dff = pd.DataFrame(dt)\n",
    "\n",
    "\n",
    "xs = dff['Main_Category']\n",
    "ys_s = dff['Pct_Success']\n",
    "ys_f = dff['Pct_Failed']\n",
    "\n",
    "fig, ax = plt.subplots(figsize=(14, 7))\n",
    "plt.xticks(rotation=45)\n",
    "\n",
    "ax.spines['top'].set_visible(False)\n",
    "ax.spines['right'].set_visible(False)\n",
    "\n",
    "ax.set_title('Success vs. Failure of Campaigns in Main Categories', fontsize=24, pad=35)\n",
    "ax.set_xlabel('Categories', fontsize=16, labelpad=10)\n",
    "ax.set_ylabel('Percentage', fontsize=16, labelpad=20)\n",
    "\n",
    "plt.bar(x=xs, height=ys_s, label='Succeded', color='purple')\n",
    "plt.bar(x=xs, height=ys_f, bottom=ys_s, label='Failed')\n",
    "\n",
    "vals = ax.get_yticks()\n",
    "ax.set_yticklabels(['{:,.0%}'.format(x) for x in vals])\n",
    "\n",
    "plt.legend(loc='upper center', bbox_to_anchor=(0.5, 1.05), ncol=2, fancybox=True)\n",
    "plt.savefig('Success vs. Failure of Campaigns in Main Categories.png', dpi=100, bbox_inches='tight')\n",
    "plt.show()\n",
    " #color='#049456' '#05ce78'\n",
    "    "
   ]
  }
 ],
 "metadata": {
  "kernelspec": {
   "display_name": "Python 3",
   "language": "python",
   "name": "python3"
  },
  "language_info": {
   "codemirror_mode": {
    "name": "ipython",
    "version": 3
   },
   "file_extension": ".py",
   "mimetype": "text/x-python",
   "name": "python",
   "nbconvert_exporter": "python",
   "pygments_lexer": "ipython3",
   "version": "3.8.5"
  },
  "toc": {
   "base_numbering": 1,
   "nav_menu": {},
   "number_sections": true,
   "sideBar": true,
   "skip_h1_title": false,
   "title_cell": "Table of Contents",
   "title_sidebar": "Contents",
   "toc_cell": false,
   "toc_position": {},
   "toc_section_display": true,
   "toc_window_display": false
  }
 },
 "nbformat": 4,
 "nbformat_minor": 4
}
